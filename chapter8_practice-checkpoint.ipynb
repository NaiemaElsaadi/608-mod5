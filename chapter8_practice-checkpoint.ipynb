{
 "cells": [
  {
   "cell_type": "markdown",
   "id": "779203c7-93e4-43c8-b959-530dd075db80",
   "metadata": {},
   "source": [
    "# 8.2 Formatting Strings\n",
    "<b> proper text formatting makes data easier to read and understand.</b>"
   ]
  },
  {
   "cell_type": "markdown",
   "id": "8c30f9b4-73e3-4dc1-87d2-976135424b4e",
   "metadata": {},
   "source": [
    "# 8.2.1 Presentation Types\n",
    "<b> python assumes the value should be displayed as a string unless you specify another type.</b>"
   ]
  },
  {
   "cell_type": "code",
   "execution_count": 1,
   "id": "043c7629-fcd6-4f64-8116-e449669a8bdf",
   "metadata": {},
   "outputs": [
    {
     "data": {
      "text/plain": [
       "'17.49'"
      ]
     },
     "execution_count": 1,
     "metadata": {},
     "output_type": "execute_result"
    }
   ],
   "source": [
    "f'{17.489:.2f}'"
   ]
  },
  {
   "cell_type": "markdown",
   "id": "3295dd1a-f4c6-423f-a17f-359657b98b1a",
   "metadata": {},
   "source": [
    "<b> Integers</b>"
   ]
  },
  {
   "cell_type": "code",
   "execution_count": 2,
   "id": "075649ff-ccbd-47ed-8809-a4caede884a7",
   "metadata": {},
   "outputs": [
    {
     "data": {
      "text/plain": [
       "'10'"
      ]
     },
     "execution_count": 2,
     "metadata": {},
     "output_type": "execute_result"
    }
   ],
   "source": [
    "f'{10:d}'"
   ]
  },
  {
   "cell_type": "markdown",
   "id": "3f7e11d4-11f5-43a3-9a10-b7516762db95",
   "metadata": {},
   "source": [
    "<b> Characters</b>"
   ]
  },
  {
   "cell_type": "code",
   "execution_count": 3,
   "id": "79d0b821-5547-45e3-b5b9-631c9968e282",
   "metadata": {},
   "outputs": [
    {
     "data": {
      "text/plain": [
       "'A a'"
      ]
     },
     "execution_count": 3,
     "metadata": {},
     "output_type": "execute_result"
    }
   ],
   "source": [
    "f'{65:c} {97:c}'"
   ]
  },
  {
   "cell_type": "markdown",
   "id": "50909304-0fc5-4ff4-a6ef-3703c04ca392",
   "metadata": {},
   "source": [
    "<b> Strings</b>"
   ]
  },
  {
   "cell_type": "code",
   "execution_count": 4,
   "id": "741e0d59-b9bc-4669-9821-c1b32195fbf5",
   "metadata": {},
   "outputs": [
    {
     "data": {
      "text/plain": [
       "'hello 7'"
      ]
     },
     "execution_count": 4,
     "metadata": {},
     "output_type": "execute_result"
    }
   ],
   "source": [
    "f'{\"hello\":s} {7}'"
   ]
  },
  {
   "cell_type": "markdown",
   "id": "3af3ce0b-b833-48b6-9274-625f51726eb2",
   "metadata": {},
   "source": [
    "<b> Floating-Point and Decimal Values"
   ]
  },
  {
   "cell_type": "code",
   "execution_count": 5,
   "id": "d7006c28-92a4-467b-bc97-091d6af5d5b7",
   "metadata": {},
   "outputs": [],
   "source": [
    "from decimal import Decimal"
   ]
  },
  {
   "cell_type": "code",
   "execution_count": 6,
   "id": "2a75176b-838e-4459-bc66-31cf3d4a5635",
   "metadata": {},
   "outputs": [
    {
     "data": {
      "text/plain": [
       "'10000000000000000000000000.000'"
      ]
     },
     "execution_count": 6,
     "metadata": {},
     "output_type": "execute_result"
    }
   ],
   "source": [
    "f'{Decimal(\"10000000000000000000000000.0\"):.3f}'"
   ]
  },
  {
   "cell_type": "code",
   "execution_count": 7,
   "id": "ea932f71-361e-492d-a067-9b0e45e3941f",
   "metadata": {},
   "outputs": [
    {
     "data": {
      "text/plain": [
       "'1.000e+25'"
      ]
     },
     "execution_count": 7,
     "metadata": {},
     "output_type": "execute_result"
    }
   ],
   "source": [
    "f'{Decimal(\"10000000000000000000000000.0\"):.3e}'"
   ]
  },
  {
   "cell_type": "markdown",
   "id": "e6b8d7ea-192c-471c-bff3-a6b0c9ead52a",
   "metadata": {},
   "source": [
    "<b> Self Check</b>"
   ]
  },
  {
   "cell_type": "code",
   "execution_count": 8,
   "id": "a034a7d4-2e9b-400b-a270-948ddb556fab",
   "metadata": {},
   "outputs": [
    {
     "name": "stdout",
     "output_type": "stream",
     "text": [
      " :-)\n"
     ]
    }
   ],
   "source": [
    "print(f' {58:c}{45:c}{41:c}')"
   ]
  },
  {
   "cell_type": "markdown",
   "id": "c004f430-07e6-43e8-b8dc-c48bd130fa16",
   "metadata": {},
   "source": [
    "# 8.2.2 Field Widths and Alignment"
   ]
  },
  {
   "cell_type": "code",
   "execution_count": 9,
   "id": "e95fc1cf-3230-44f9-ac92-4feffec61a5c",
   "metadata": {},
   "outputs": [
    {
     "data": {
      "text/plain": [
       "'[        27]'"
      ]
     },
     "execution_count": 9,
     "metadata": {},
     "output_type": "execute_result"
    }
   ],
   "source": [
    "f'[{27:10d}]'"
   ]
  },
  {
   "cell_type": "code",
   "execution_count": 10,
   "id": "168c238f-b042-48dd-bb58-ec1ff5daba91",
   "metadata": {},
   "outputs": [
    {
     "data": {
      "text/plain": [
       "'[  3.500000]'"
      ]
     },
     "execution_count": 10,
     "metadata": {},
     "output_type": "execute_result"
    }
   ],
   "source": [
    "f'[{3.5:10f}]'"
   ]
  },
  {
   "cell_type": "code",
   "execution_count": 11,
   "id": "9b33eb97-950e-4086-ba80-a28e7b532956",
   "metadata": {},
   "outputs": [
    {
     "data": {
      "text/plain": [
       "'[hello     ]'"
      ]
     },
     "execution_count": 11,
     "metadata": {},
     "output_type": "execute_result"
    }
   ],
   "source": [
    "f'[{\"hello\":10}]'"
   ]
  },
  {
   "cell_type": "markdown",
   "id": "308c3dd9-fd7c-4010-8908-98e66ab91b06",
   "metadata": {},
   "source": [
    "<b> Explicitly Specifying Left and Right Alignment in a Field</b>"
   ]
  },
  {
   "cell_type": "code",
   "execution_count": 12,
   "id": "103ccb28-c7f9-461c-9b48-98fa02105b2e",
   "metadata": {},
   "outputs": [
    {
     "data": {
      "text/plain": [
       "'[27             ]'"
      ]
     },
     "execution_count": 12,
     "metadata": {},
     "output_type": "execute_result"
    }
   ],
   "source": [
    "f'[{27:<15d}]'"
   ]
  },
  {
   "cell_type": "code",
   "execution_count": 13,
   "id": "09b88c72-562b-4ab1-9f62-25b48886ab84",
   "metadata": {},
   "outputs": [
    {
     "data": {
      "text/plain": [
       "'[3.500000       ]'"
      ]
     },
     "execution_count": 13,
     "metadata": {},
     "output_type": "execute_result"
    }
   ],
   "source": [
    "f'[{3.5:<15f}]'"
   ]
  },
  {
   "cell_type": "code",
   "execution_count": 14,
   "id": "bd0c3ba8-8cf6-48a1-ae01-c4ec588e1fa1",
   "metadata": {},
   "outputs": [
    {
     "data": {
      "text/plain": [
       "'[          hello]'"
      ]
     },
     "execution_count": 14,
     "metadata": {},
     "output_type": "execute_result"
    }
   ],
   "source": [
    "f'[{\"hello\":>15}]'"
   ]
  },
  {
   "cell_type": "markdown",
   "id": "30e7b2a2-5097-4422-b225-f974f6ed5bfc",
   "metadata": {},
   "source": [
    "<b> Center Values in Field</b>"
   ]
  },
  {
   "cell_type": "code",
   "execution_count": 15,
   "id": "f33a6196-e990-477a-887a-9fd577d97744",
   "metadata": {},
   "outputs": [
    {
     "data": {
      "text/plain": [
       "'[  27   ]'"
      ]
     },
     "execution_count": 15,
     "metadata": {},
     "output_type": "execute_result"
    }
   ],
   "source": [
    "f'[{27:^7d}]'"
   ]
  },
  {
   "cell_type": "code",
   "execution_count": 16,
   "id": "0d6b7b59-294b-4306-a261-f264f132a67d",
   "metadata": {},
   "outputs": [
    {
     "data": {
      "text/plain": [
       "'[  3.5  ]'"
      ]
     },
     "execution_count": 16,
     "metadata": {},
     "output_type": "execute_result"
    }
   ],
   "source": [
    "f'[{3.5:^7.1f}]'"
   ]
  },
  {
   "cell_type": "code",
   "execution_count": 17,
   "id": "2e904d32-2c24-4697-8af8-73522a6e3802",
   "metadata": {},
   "outputs": [
    {
     "data": {
      "text/plain": [
       "'[ hello ]'"
      ]
     },
     "execution_count": 17,
     "metadata": {},
     "output_type": "execute_result"
    }
   ],
   "source": [
    "f'[{\"hello\":^7}]'"
   ]
  },
  {
   "cell_type": "markdown",
   "id": "95cabd01-5a90-42f4-9da9-97f686a3dc97",
   "metadata": {},
   "source": [
    "<b> Self Check</b>"
   ]
  },
  {
   "cell_type": "code",
   "execution_count": 18,
   "id": "5d54122b-501d-4a41-af4f-0686b375115f",
   "metadata": {},
   "outputs": [
    {
     "name": "stdout",
     "output_type": "stream",
     "text": [
      "[    Naiema]\n",
      "[   Omer   ]\n",
      "[Elsaadi   ]\n"
     ]
    }
   ],
   "source": [
    "print(f'[{\"Naiema\":>10}]\\n[{\"Omer\":^10}]\\n[{\"Elsaadi\":<10}]')"
   ]
  },
  {
   "cell_type": "markdown",
   "id": "ed86747c-c797-49aa-bac7-3fa0d653861d",
   "metadata": {},
   "source": [
    "# 8.2.3 Numeric Formatting"
   ]
  },
  {
   "cell_type": "markdown",
   "id": "7681c884-5b1b-4ec9-bc1e-684200e7c0d9",
   "metadata": {},
   "source": [
    "<b> Formatting Positive Numbers With Signs</b>"
   ]
  },
  {
   "cell_type": "code",
   "execution_count": 19,
   "id": "405a33be-551d-4793-81d1-f758dbb49176",
   "metadata": {},
   "outputs": [
    {
     "data": {
      "text/plain": [
       "'[       +27]'"
      ]
     },
     "execution_count": 19,
     "metadata": {},
     "output_type": "execute_result"
    }
   ],
   "source": [
    "f'[{27:+10d}]'"
   ]
  },
  {
   "cell_type": "code",
   "execution_count": 20,
   "id": "48e088e3-a439-4ec1-a716-99775f23f7bc",
   "metadata": {},
   "outputs": [
    {
     "data": {
      "text/plain": [
       "'[+000000027]'"
      ]
     },
     "execution_count": 20,
     "metadata": {},
     "output_type": "execute_result"
    }
   ],
   "source": [
    "f'[{27:+010d}]'"
   ]
  },
  {
   "cell_type": "markdown",
   "id": "177d09d6-e0f2-4dea-aa4d-29885928c48c",
   "metadata": {},
   "source": [
    "<b> Using a Space Where a + Sign Would Appear in a Positive Value</b>"
   ]
  },
  {
   "cell_type": "code",
   "execution_count": 21,
   "id": "e22f8970-1188-428e-a3f8-3500102f3036",
   "metadata": {},
   "outputs": [
    {
     "name": "stdout",
     "output_type": "stream",
     "text": [
      " 27\n",
      " 27\n",
      "-27\n"
     ]
    }
   ],
   "source": [
    "print(f'{27:3}\\n{27: d}\\n{-27: d}')"
   ]
  },
  {
   "cell_type": "markdown",
   "id": "529c41d8-1750-462b-b2cd-4b5e291c44c3",
   "metadata": {},
   "source": [
    "<b> Grouping Digits</b>"
   ]
  },
  {
   "cell_type": "code",
   "execution_count": 22,
   "id": "80009711-78bd-4d90-ac84-56a7be92c71d",
   "metadata": {},
   "outputs": [
    {
     "data": {
      "text/plain": [
       "'12,345,678'"
      ]
     },
     "execution_count": 22,
     "metadata": {},
     "output_type": "execute_result"
    }
   ],
   "source": [
    "f'{12345678:,d}'"
   ]
  },
  {
   "cell_type": "code",
   "execution_count": 23,
   "id": "1edfb0b4-62a4-477b-bcb6-e987f9173bb0",
   "metadata": {},
   "outputs": [
    {
     "data": {
      "text/plain": [
       "'123,456.78'"
      ]
     },
     "execution_count": 23,
     "metadata": {},
     "output_type": "execute_result"
    }
   ],
   "source": [
    "f'{123456.78:,.2f}'"
   ]
  },
  {
   "cell_type": "markdown",
   "id": "419e998c-28af-4101-b560-1612d8a21fce",
   "metadata": {},
   "source": [
    "<b> Self Check</b>"
   ]
  },
  {
   "cell_type": "code",
   "execution_count": 24,
   "id": "ff4e5fc6-e22d-411e-ab52-49807e3a838a",
   "metadata": {},
   "outputs": [
    {
     "name": "stdout",
     "output_type": "stream",
     "text": [
      "+10,240.47\n",
      " -3,210.95\n"
     ]
    }
   ],
   "source": [
    "print(f'{10240.473:+10,.2f}\\n{-3210.9521:+10,.2f}')"
   ]
  },
  {
   "cell_type": "markdown",
   "id": "a55dc55e-2dbb-4de4-bcc2-af150c3ff2c4",
   "metadata": {},
   "source": [
    "# 8.2.4 String's Format Method"
   ]
  },
  {
   "cell_type": "code",
   "execution_count": 25,
   "id": "870b9ac8-7076-4ca1-a112-8ec4bbbcb977",
   "metadata": {},
   "outputs": [
    {
     "data": {
      "text/plain": [
       "'17.49'"
      ]
     },
     "execution_count": 25,
     "metadata": {},
     "output_type": "execute_result"
    }
   ],
   "source": [
    "'{:.2f}'.format(17.489)"
   ]
  },
  {
   "cell_type": "markdown",
   "id": "218330de-b448-4a7e-8414-64a033406fe2",
   "metadata": {},
   "source": [
    "<b> Multiple Placeholders</b>"
   ]
  },
  {
   "cell_type": "code",
   "execution_count": 26,
   "id": "99a341e1-b253-4b52-abe9-24abecfd02fb",
   "metadata": {},
   "outputs": [
    {
     "data": {
      "text/plain": [
       "'Naiema Elsaadi'"
      ]
     },
     "execution_count": 26,
     "metadata": {},
     "output_type": "execute_result"
    }
   ],
   "source": [
    "'{} {}'.format('Naiema','Elsaadi')"
   ]
  },
  {
   "cell_type": "markdown",
   "id": "7e1c92ef-33f6-4a8a-940f-10865ecbddaa",
   "metadata": {},
   "source": [
    "<b> Referencing Arguments by position Number</b>"
   ]
  },
  {
   "cell_type": "code",
   "execution_count": 27,
   "id": "319048ca-b663-43ad-bc07-1d9053dca011",
   "metadata": {},
   "outputs": [
    {
     "data": {
      "text/plain": [
       "'Happy Happy Birthday'"
      ]
     },
     "execution_count": 27,
     "metadata": {},
     "output_type": "execute_result"
    }
   ],
   "source": [
    "'{0} {0} {1}'.format('Happy', 'Birthday')"
   ]
  },
  {
   "cell_type": "markdown",
   "id": "f203d286-ef45-46c5-86e4-5c388b198b78",
   "metadata": {},
   "source": [
    "<b> Referencing Keyword Arguments</b>"
   ]
  },
  {
   "cell_type": "code",
   "execution_count": 28,
   "id": "1e8c49ab-22ce-42ed-b561-5aebdb8df233",
   "metadata": {},
   "outputs": [
    {
     "data": {
      "text/plain": [
       "'Naiema Elsaadi'"
      ]
     },
     "execution_count": 28,
     "metadata": {},
     "output_type": "execute_result"
    }
   ],
   "source": [
    "'{first} {last}'.format(first='Naiema', last='Elsaadi')"
   ]
  },
  {
   "cell_type": "code",
   "execution_count": 29,
   "id": "37c42c13-55b0-425e-8d80-fc55d3d94d17",
   "metadata": {},
   "outputs": [
    {
     "data": {
      "text/plain": [
       "'Elsaadi Naiema'"
      ]
     },
     "execution_count": 29,
     "metadata": {},
     "output_type": "execute_result"
    }
   ],
   "source": [
    "'{last} {first}'.format(first='Naiema', last='Elsaadi')"
   ]
  },
  {
   "cell_type": "markdown",
   "id": "b4e0ee92-36e7-4f30-a303-8c536b302b8f",
   "metadata": {},
   "source": [
    "<b> Self Check</b>"
   ]
  },
  {
   "cell_type": "code",
   "execution_count": 30,
   "id": "b3e54c59-9e97-42eb-abe0-8f1a74f169c3",
   "metadata": {},
   "outputs": [
    {
     "name": "stdout",
     "output_type": "stream",
     "text": [
      ":-)\n"
     ]
    }
   ],
   "source": [
    "print('{:c}{:c}{:c}'.format(58, 45, 41))"
   ]
  },
  {
   "cell_type": "code",
   "execution_count": 31,
   "id": "3ce416de-742e-4586-a4a9-d12e97117447",
   "metadata": {},
   "outputs": [
    {
     "name": "stdout",
     "output_type": "stream",
     "text": [
      "[    Naiema]\n",
      "[  Naiema  ]\n",
      "[Naiema    ]\n"
     ]
    }
   ],
   "source": [
    "print('[{0:>10}]\\n[{0:^10}]\\n[{0:<10}]'.format('Naiema'))"
   ]
  },
  {
   "cell_type": "code",
   "execution_count": 32,
   "id": "ee3184ef-7f5c-4e5c-8f5a-1fb6cef1ca1e",
   "metadata": {},
   "outputs": [
    {
     "name": "stdout",
     "output_type": "stream",
     "text": [
      "+10,240.47\n",
      " -3,210.95\n"
     ]
    }
   ],
   "source": [
    "print('{:+10,.2f}\\n{:+10,.2f}'.format(10240.473, -3210.9521))"
   ]
  },
  {
   "cell_type": "markdown",
   "id": "17991e58-70f6-4dd1-88af-0d3d58c206a3",
   "metadata": {},
   "source": [
    "# 8.3 Concatenating and Repeating Strings"
   ]
  },
  {
   "cell_type": "code",
   "execution_count": 33,
   "id": "1b3fbb6b-aa3e-4be2-af3d-0b7013e93019",
   "metadata": {},
   "outputs": [],
   "source": [
    "s1 = 'happy'"
   ]
  },
  {
   "cell_type": "code",
   "execution_count": 34,
   "id": "2e08fb6f-43a9-4dff-8af7-62fa5fd98c34",
   "metadata": {},
   "outputs": [],
   "source": [
    "s2 = 'birthday'"
   ]
  },
  {
   "cell_type": "code",
   "execution_count": 35,
   "id": "46faff99-9aef-415c-9d35-0b71b2bdb998",
   "metadata": {},
   "outputs": [],
   "source": [
    "s1 += ' ' +s2"
   ]
  },
  {
   "cell_type": "code",
   "execution_count": 36,
   "id": "a341113f-0008-451f-a253-bcb55230c53d",
   "metadata": {},
   "outputs": [
    {
     "data": {
      "text/plain": [
       "'happy birthday'"
      ]
     },
     "execution_count": 36,
     "metadata": {},
     "output_type": "execute_result"
    }
   ],
   "source": [
    "s1"
   ]
  },
  {
   "cell_type": "code",
   "execution_count": 37,
   "id": "dd09f42e-3c23-438b-a8e1-b5b368590b37",
   "metadata": {},
   "outputs": [],
   "source": [
    "symbol = '>'"
   ]
  },
  {
   "cell_type": "code",
   "execution_count": 38,
   "id": "4c7a5304-40e2-47f0-b281-c27a2eea4383",
   "metadata": {},
   "outputs": [],
   "source": [
    "symbol *= 5"
   ]
  },
  {
   "cell_type": "code",
   "execution_count": 39,
   "id": "01edbb44-d8fa-480e-82d7-2efadce7da63",
   "metadata": {},
   "outputs": [
    {
     "data": {
      "text/plain": [
       "'>>>>>'"
      ]
     },
     "execution_count": 39,
     "metadata": {},
     "output_type": "execute_result"
    }
   ],
   "source": [
    "symbol"
   ]
  },
  {
   "cell_type": "markdown",
   "id": "e7141a3a-4a5b-4e62-91c6-d28fa017b0ed",
   "metadata": {},
   "source": [
    "<b> Self Chek</b>"
   ]
  },
  {
   "cell_type": "code",
   "execution_count": 40,
   "id": "f3b5f88a-dd37-4ecd-b768-45351bc86e8b",
   "metadata": {},
   "outputs": [],
   "source": [
    "name = 'Naiema'"
   ]
  },
  {
   "cell_type": "code",
   "execution_count": 41,
   "id": "44974535-871d-49d3-ab87-b2aa1809c77d",
   "metadata": {},
   "outputs": [],
   "source": [
    "name += ' Elsaadi'"
   ]
  },
  {
   "cell_type": "code",
   "execution_count": 42,
   "id": "48424176-ffb9-447c-96c8-467cad68b024",
   "metadata": {},
   "outputs": [],
   "source": [
    "bar = '*'"
   ]
  },
  {
   "cell_type": "code",
   "execution_count": 43,
   "id": "eb591c34-c7cd-4d70-b72e-69ea03913715",
   "metadata": {},
   "outputs": [],
   "source": [
    "bar *= len(name)"
   ]
  },
  {
   "cell_type": "code",
   "execution_count": 44,
   "id": "671dfe67-ef57-42ff-a972-b0cab7bbfe92",
   "metadata": {},
   "outputs": [
    {
     "name": "stdout",
     "output_type": "stream",
     "text": [
      "**************\n",
      "Naiema Elsaadi\n",
      "**************\n"
     ]
    }
   ],
   "source": [
    "print(f'{bar}\\n{name}\\n{bar}')"
   ]
  },
  {
   "cell_type": "markdown",
   "id": "23595b64-2062-483b-a454-7dfa46f01d7d",
   "metadata": {},
   "source": [
    "# 8.4 Stripping Whitespace from Strings"
   ]
  },
  {
   "cell_type": "markdown",
   "id": "2643049d-3e5f-4dc6-8e2a-b6d218137210",
   "metadata": {},
   "source": [
    "<b> Removing Leading and Trailing Whitespace</b>"
   ]
  },
  {
   "cell_type": "code",
   "execution_count": 1,
   "id": "d396f196-1fdd-4fe6-91bd-973f0dba48a9",
   "metadata": {},
   "outputs": [],
   "source": [
    "sentence = '\\t \\n This is a test string. \\t\\t \\n'"
   ]
  },
  {
   "cell_type": "code",
   "execution_count": 2,
   "id": "bfeb08c3-b3d8-4082-882c-b8a9ad8607b9",
   "metadata": {},
   "outputs": [
    {
     "data": {
      "text/plain": [
       "'This is a test string.'"
      ]
     },
     "execution_count": 2,
     "metadata": {},
     "output_type": "execute_result"
    }
   ],
   "source": [
    "sentence.strip()"
   ]
  },
  {
   "cell_type": "markdown",
   "id": "2e0d3be6-887f-48f1-8d62-1e850af16fbe",
   "metadata": {},
   "source": [
    "<b> Removing Leading Whitespace</b>"
   ]
  },
  {
   "cell_type": "code",
   "execution_count": 3,
   "id": "421abf5f-b76c-45c6-b60e-054b48caa203",
   "metadata": {},
   "outputs": [
    {
     "data": {
      "text/plain": [
       "'This is a test string. \\t\\t \\n'"
      ]
     },
     "execution_count": 3,
     "metadata": {},
     "output_type": "execute_result"
    }
   ],
   "source": [
    "sentence.lstrip()"
   ]
  },
  {
   "cell_type": "markdown",
   "id": "dd19c7d6-10f4-4ca5-990f-49ed7371f724",
   "metadata": {},
   "source": [
    "<b>Removing Trailing Whitespace</b>"
   ]
  },
  {
   "cell_type": "code",
   "execution_count": 4,
   "id": "2c1af232-ec04-4c4a-a33e-186b3014420f",
   "metadata": {},
   "outputs": [
    {
     "data": {
      "text/plain": [
       "'\\t \\n This is a test string.'"
      ]
     },
     "execution_count": 4,
     "metadata": {},
     "output_type": "execute_result"
    }
   ],
   "source": [
    "sentence.rstrip()"
   ]
  },
  {
   "cell_type": "markdown",
   "id": "7630d33f-14a1-4854-8011-d0be584ebd82",
   "metadata": {},
   "source": [
    "<b> Self Check</b>"
   ]
  },
  {
   "cell_type": "code",
   "execution_count": 5,
   "id": "eb6b896a-99fc-49a5-9d88-b89c386220a4",
   "metadata": {},
   "outputs": [],
   "source": [
    "name = '     Naiema Elsaadi     '"
   ]
  },
  {
   "cell_type": "code",
   "execution_count": 6,
   "id": "af02c4e2-077f-421d-8984-73bfae089ad0",
   "metadata": {},
   "outputs": [
    {
     "data": {
      "text/plain": [
       "'Naiema Elsaadi'"
      ]
     },
     "execution_count": 6,
     "metadata": {},
     "output_type": "execute_result"
    }
   ],
   "source": [
    "name.strip()"
   ]
  },
  {
   "cell_type": "code",
   "execution_count": 7,
   "id": "ad4289e3-abe7-47a6-8964-76060bf589eb",
   "metadata": {},
   "outputs": [
    {
     "data": {
      "text/plain": [
       "'Naiema Elsaadi     '"
      ]
     },
     "execution_count": 7,
     "metadata": {},
     "output_type": "execute_result"
    }
   ],
   "source": [
    "name.lstrip()"
   ]
  },
  {
   "cell_type": "code",
   "execution_count": 8,
   "id": "3e63621a-2784-4af0-b8c0-8662fb81bfe6",
   "metadata": {},
   "outputs": [
    {
     "data": {
      "text/plain": [
       "'     Naiema Elsaadi'"
      ]
     },
     "execution_count": 8,
     "metadata": {},
     "output_type": "execute_result"
    }
   ],
   "source": [
    "name.rstrip()"
   ]
  },
  {
   "cell_type": "markdown",
   "id": "bc3afbec-7507-4592-a411-0c6c45d17178",
   "metadata": {},
   "source": [
    "# 8.5 Changing Character Case"
   ]
  },
  {
   "cell_type": "markdown",
   "id": "b9280a30-ec66-480c-9ed4-4e96c4033c9e",
   "metadata": {},
   "source": [
    "<b> Capitalizing Only a String's First Character</b>"
   ]
  },
  {
   "cell_type": "code",
   "execution_count": 1,
   "id": "c51987c7-0588-40e5-b0fb-01716ef511dc",
   "metadata": {},
   "outputs": [
    {
     "data": {
      "text/plain": [
       "'Happy birthday'"
      ]
     },
     "execution_count": 1,
     "metadata": {},
     "output_type": "execute_result"
    }
   ],
   "source": [
    "'happy birthday'.capitalize()"
   ]
  },
  {
   "cell_type": "markdown",
   "id": "59726cf7-ff8d-4fef-ae5d-9a843f278e4d",
   "metadata": {},
   "source": [
    "<b> Capitalizing the First Character of Every World in a String</b>"
   ]
  },
  {
   "cell_type": "code",
   "execution_count": 2,
   "id": "bdddd57a-6357-4cd0-b443-abfcc8abf5a3",
   "metadata": {},
   "outputs": [
    {
     "data": {
      "text/plain": [
       "'Strings: A Deeper Look'"
      ]
     },
     "execution_count": 2,
     "metadata": {},
     "output_type": "execute_result"
    }
   ],
   "source": [
    "'strings: a deeper look' .title()"
   ]
  },
  {
   "cell_type": "markdown",
   "id": "6f254c3f-39f9-4ca7-b5fb-23ea912f797f",
   "metadata": {},
   "source": [
    "<b> Self Check</b>"
   ]
  },
  {
   "cell_type": "code",
   "execution_count": 3,
   "id": "ad6bf898-1c3c-4dda-a419-ea4483b0fb04",
   "metadata": {},
   "outputs": [],
   "source": [
    "test_string = 'happy new year'"
   ]
  },
  {
   "cell_type": "code",
   "execution_count": 4,
   "id": "f2a03635-4032-4842-b23c-2e0776e3aa07",
   "metadata": {},
   "outputs": [
    {
     "data": {
      "text/plain": [
       "'Happy New Year'"
      ]
     },
     "execution_count": 4,
     "metadata": {},
     "output_type": "execute_result"
    }
   ],
   "source": [
    "test_string.title()"
   ]
  },
  {
   "cell_type": "code",
   "execution_count": 5,
   "id": "95270d1c-68b4-4061-8b3d-894c261dab64",
   "metadata": {},
   "outputs": [
    {
     "data": {
      "text/plain": [
       "'Happy new year'"
      ]
     },
     "execution_count": 5,
     "metadata": {},
     "output_type": "execute_result"
    }
   ],
   "source": [
    "test_string.capitalize()"
   ]
  },
  {
   "cell_type": "markdown",
   "id": "cadbe88f-c9bd-42ab-bc9a-b6dbb16e59c6",
   "metadata": {},
   "source": [
    "# 8.6 Comparison Operators for Strings"
   ]
  },
  {
   "cell_type": "code",
   "execution_count": 6,
   "id": "a77f4a80-1838-471c-9958-07fc58045157",
   "metadata": {},
   "outputs": [
    {
     "name": "stdout",
     "output_type": "stream",
     "text": [
      "A: 65; a: 97\n"
     ]
    }
   ],
   "source": [
    "print(f'A: {ord(\"A\")}; a: {ord(\"a\")}')"
   ]
  },
  {
   "cell_type": "code",
   "execution_count": 7,
   "id": "6ae179f7-aedf-466f-bb04-101fcdd37563",
   "metadata": {},
   "outputs": [
    {
     "data": {
      "text/plain": [
       "False"
      ]
     },
     "execution_count": 7,
     "metadata": {},
     "output_type": "execute_result"
    }
   ],
   "source": [
    "'Orange' == 'orange'"
   ]
  },
  {
   "cell_type": "code",
   "execution_count": 8,
   "id": "4c502094-a5fc-45e6-986d-0e6a4df12635",
   "metadata": {},
   "outputs": [
    {
     "data": {
      "text/plain": [
       "True"
      ]
     },
     "execution_count": 8,
     "metadata": {},
     "output_type": "execute_result"
    }
   ],
   "source": [
    "'Orange' != 'orange'"
   ]
  },
  {
   "cell_type": "code",
   "execution_count": 9,
   "id": "e7e28ed5-40c8-4f6b-a060-49e1f5813bbf",
   "metadata": {},
   "outputs": [
    {
     "data": {
      "text/plain": [
       "True"
      ]
     },
     "execution_count": 9,
     "metadata": {},
     "output_type": "execute_result"
    }
   ],
   "source": [
    "'Orange' < 'orange'"
   ]
  },
  {
   "cell_type": "code",
   "execution_count": 10,
   "id": "28ba18d8-069a-494f-bd69-f9707477c8f8",
   "metadata": {},
   "outputs": [
    {
     "data": {
      "text/plain": [
       "True"
      ]
     },
     "execution_count": 10,
     "metadata": {},
     "output_type": "execute_result"
    }
   ],
   "source": [
    "'Orange' <= 'orange'"
   ]
  },
  {
   "cell_type": "code",
   "execution_count": 11,
   "id": "599ac133-ac4c-463d-a75d-bcb16bc363f2",
   "metadata": {},
   "outputs": [
    {
     "data": {
      "text/plain": [
       "False"
      ]
     },
     "execution_count": 11,
     "metadata": {},
     "output_type": "execute_result"
    }
   ],
   "source": [
    "'Orange' > 'orange'"
   ]
  },
  {
   "cell_type": "markdown",
   "id": "bad8b695-841e-4c56-ad2d-c596b5f034dc",
   "metadata": {},
   "source": [
    "# 8.7 Searching for Substrings"
   ]
  },
  {
   "cell_type": "markdown",
   "id": "1337db9e-9248-4a79-8fee-e53006bc48ac",
   "metadata": {},
   "source": [
    "<b>Counting Occurrences</b>"
   ]
  },
  {
   "cell_type": "code",
   "execution_count": 12,
   "id": "db6c7317-1c75-4348-b931-e3ca890151b9",
   "metadata": {},
   "outputs": [],
   "source": [
    "sentence = 'to be or not to be that is the question'"
   ]
  },
  {
   "cell_type": "code",
   "execution_count": 13,
   "id": "d0f8a6d5-5939-4465-ad57-80263b5b7f3c",
   "metadata": {},
   "outputs": [
    {
     "data": {
      "text/plain": [
       "2"
      ]
     },
     "execution_count": 13,
     "metadata": {},
     "output_type": "execute_result"
    }
   ],
   "source": [
    "sentence.count('to')"
   ]
  },
  {
   "cell_type": "code",
   "execution_count": 14,
   "id": "a69e0857-944c-4170-8c02-1a614c04cf68",
   "metadata": {},
   "outputs": [
    {
     "data": {
      "text/plain": [
       "1"
      ]
     },
     "execution_count": 14,
     "metadata": {},
     "output_type": "execute_result"
    }
   ],
   "source": [
    "sentence.count('to', 12)"
   ]
  },
  {
   "cell_type": "code",
   "execution_count": 15,
   "id": "a6d199c0-3a62-47a0-a349-56117b746393",
   "metadata": {},
   "outputs": [
    {
     "data": {
      "text/plain": [
       "1"
      ]
     },
     "execution_count": 15,
     "metadata": {},
     "output_type": "execute_result"
    }
   ],
   "source": [
    "sentence.count('that', 12, 25)"
   ]
  },
  {
   "cell_type": "markdown",
   "id": "fc736955-5803-42aa-89ba-77e80aac64fc",
   "metadata": {},
   "source": [
    "<b> Locating a Substring in a String</b>"
   ]
  },
  {
   "cell_type": "code",
   "execution_count": 16,
   "id": "ddbfdf7d-7d09-41f4-86a2-f98c8282afad",
   "metadata": {},
   "outputs": [
    {
     "data": {
      "text/plain": [
       "3"
      ]
     },
     "execution_count": 16,
     "metadata": {},
     "output_type": "execute_result"
    }
   ],
   "source": [
    "sentence.index('be')"
   ]
  },
  {
   "cell_type": "code",
   "execution_count": 17,
   "id": "b1dd1fcd-16ea-4118-be09-ebd8d8300030",
   "metadata": {},
   "outputs": [
    {
     "data": {
      "text/plain": [
       "16"
      ]
     },
     "execution_count": 17,
     "metadata": {},
     "output_type": "execute_result"
    }
   ],
   "source": [
    "sentence.rindex('be')"
   ]
  },
  {
   "cell_type": "markdown",
   "id": "19c012d9-e402-4fdf-a692-453fe842ee38",
   "metadata": {},
   "source": [
    "<b>Determining Whether a String Contains a Substring</b>"
   ]
  },
  {
   "cell_type": "code",
   "execution_count": 18,
   "id": "cf7aa43a-050c-4a1d-a70b-9934215412c5",
   "metadata": {},
   "outputs": [
    {
     "data": {
      "text/plain": [
       "True"
      ]
     },
     "execution_count": 18,
     "metadata": {},
     "output_type": "execute_result"
    }
   ],
   "source": [
    "'that' in sentence"
   ]
  },
  {
   "cell_type": "code",
   "execution_count": 19,
   "id": "abaf7a20-9cd9-4c4f-a719-4ef0b3574c65",
   "metadata": {},
   "outputs": [
    {
     "data": {
      "text/plain": [
       "False"
      ]
     },
     "execution_count": 19,
     "metadata": {},
     "output_type": "execute_result"
    }
   ],
   "source": [
    "'THAT' in sentence"
   ]
  },
  {
   "cell_type": "code",
   "execution_count": 20,
   "id": "bbb9f805-0511-492b-8d3b-df3d0c964ffb",
   "metadata": {},
   "outputs": [
    {
     "data": {
      "text/plain": [
       "True"
      ]
     },
     "execution_count": 20,
     "metadata": {},
     "output_type": "execute_result"
    }
   ],
   "source": [
    "'THAT' not in sentence"
   ]
  },
  {
   "cell_type": "markdown",
   "id": "11abf325-780a-4d53-a40b-9e136e54adc1",
   "metadata": {},
   "source": [
    "<b>Locating a Substring at the Beginning or End of a String </b>"
   ]
  },
  {
   "cell_type": "code",
   "execution_count": 21,
   "id": "6bfd21e5-4646-46b7-8773-baa8807b2c88",
   "metadata": {},
   "outputs": [
    {
     "data": {
      "text/plain": [
       "True"
      ]
     },
     "execution_count": 21,
     "metadata": {},
     "output_type": "execute_result"
    }
   ],
   "source": [
    "sentence.startswith('to')"
   ]
  },
  {
   "cell_type": "code",
   "execution_count": 22,
   "id": "e605d35f-e469-4df4-8372-cff65bc1eeb9",
   "metadata": {},
   "outputs": [
    {
     "data": {
      "text/plain": [
       "False"
      ]
     },
     "execution_count": 22,
     "metadata": {},
     "output_type": "execute_result"
    }
   ],
   "source": [
    "sentence.startswith('be')"
   ]
  },
  {
   "cell_type": "code",
   "execution_count": 23,
   "id": "b4dcb113-a864-454b-ac8d-57486c33c0ef",
   "metadata": {},
   "outputs": [
    {
     "data": {
      "text/plain": [
       "True"
      ]
     },
     "execution_count": 23,
     "metadata": {},
     "output_type": "execute_result"
    }
   ],
   "source": [
    "sentence.endswith('question')"
   ]
  },
  {
   "cell_type": "code",
   "execution_count": 24,
   "id": "48bef1c1-e329-4ec7-8e80-5a018ee27f32",
   "metadata": {},
   "outputs": [
    {
     "data": {
      "text/plain": [
       "False"
      ]
     },
     "execution_count": 24,
     "metadata": {},
     "output_type": "execute_result"
    }
   ],
   "source": [
    "sentence.endswith('quest')"
   ]
  },
  {
   "cell_type": "markdown",
   "id": "10a0ad31-2458-48a0-b9ca-5f79276ec842",
   "metadata": {},
   "source": [
    "<b> Self Check</b>"
   ]
  },
  {
   "cell_type": "code",
   "execution_count": 25,
   "id": "83ad35ee-5b51-45a0-9568-2a5bbfa54d59",
   "metadata": {},
   "outputs": [
    {
     "name": "stdout",
     "output_type": "stream",
     "text": [
      "to to that the "
     ]
    }
   ],
   "source": [
    "for word in 'to be or not to be that is the question'.split():\n",
    "    if word.startswith('t'):\n",
    "        print(word, end=' ')\n",
    "        "
   ]
  },
  {
   "cell_type": "markdown",
   "id": "4b41dd09-7304-48c1-8785-baba65c78c28",
   "metadata": {},
   "source": [
    "# 8.8 Replacing Substrings"
   ]
  },
  {
   "cell_type": "code",
   "execution_count": 26,
   "id": "ce009056-1ba7-4759-977e-ac492ce573e8",
   "metadata": {},
   "outputs": [],
   "source": [
    "values = '1\\t2\\t3\\t4\\t5'"
   ]
  },
  {
   "cell_type": "code",
   "execution_count": 27,
   "id": "a21b5378-171b-4659-82cc-16636e577bc0",
   "metadata": {},
   "outputs": [
    {
     "data": {
      "text/plain": [
       "'1,2,3,4,5'"
      ]
     },
     "execution_count": 27,
     "metadata": {},
     "output_type": "execute_result"
    }
   ],
   "source": [
    "values.replace('\\t', ',')"
   ]
  },
  {
   "cell_type": "code",
   "execution_count": 28,
   "id": "07900e6f-bb32-4b74-86f9-d767929562f5",
   "metadata": {},
   "outputs": [
    {
     "data": {
      "text/plain": [
       "'1 --> 2 --> 3 --> 4 --> 5'"
      ]
     },
     "execution_count": 28,
     "metadata": {},
     "output_type": "execute_result"
    }
   ],
   "source": [
    "'1 2 3 4 5'.replace(' ', ' --> ')"
   ]
  },
  {
   "cell_type": "markdown",
   "id": "aa53e0e6-705d-41ff-b933-4cc23b3cd640",
   "metadata": {},
   "source": [
    "# 8.9 Splitting and Joining Strings"
   ]
  },
  {
   "cell_type": "markdown",
   "id": "a4f695c6-3475-4b9d-808a-9b75af5a785e",
   "metadata": {},
   "source": [
    "<b> Splitting Strings</b>"
   ]
  },
  {
   "cell_type": "code",
   "execution_count": 1,
   "id": "9809885c-904a-492a-86f3-1ff9040634fb",
   "metadata": {},
   "outputs": [],
   "source": [
    "letters = 'A, B, C, D'"
   ]
  },
  {
   "cell_type": "code",
   "execution_count": 2,
   "id": "9379bcd5-ea53-46ff-bc22-7af1664f82fa",
   "metadata": {},
   "outputs": [
    {
     "data": {
      "text/plain": [
       "['A', 'B', 'C', 'D']"
      ]
     },
     "execution_count": 2,
     "metadata": {},
     "output_type": "execute_result"
    }
   ],
   "source": [
    "letters.split(', ')"
   ]
  },
  {
   "cell_type": "code",
   "execution_count": 3,
   "id": "ef62e14b-f109-4610-b502-e20de7a9e276",
   "metadata": {},
   "outputs": [
    {
     "data": {
      "text/plain": [
       "['A', 'B', 'C, D']"
      ]
     },
     "execution_count": 3,
     "metadata": {},
     "output_type": "execute_result"
    }
   ],
   "source": [
    "letters.split(', ', 2)"
   ]
  },
  {
   "cell_type": "markdown",
   "id": "67cdd296-e3e4-4365-9778-db1a52ebd7b0",
   "metadata": {},
   "source": [
    "<b> Joining Strings</b>"
   ]
  },
  {
   "cell_type": "code",
   "execution_count": 4,
   "id": "e2a1958c-f1fc-4133-9b3c-f3718f5c90c7",
   "metadata": {},
   "outputs": [],
   "source": [
    "letters_list = ['A', 'B', 'C', 'D']"
   ]
  },
  {
   "cell_type": "code",
   "execution_count": 5,
   "id": "e0b06e40-9ee2-4588-874e-80ee02d0d2e7",
   "metadata": {},
   "outputs": [
    {
     "data": {
      "text/plain": [
       "'A,B,C,D'"
      ]
     },
     "execution_count": 5,
     "metadata": {},
     "output_type": "execute_result"
    }
   ],
   "source": [
    "','.join(letters_list)"
   ]
  },
  {
   "cell_type": "code",
   "execution_count": 6,
   "id": "63190d94-1928-4af2-8903-52a993f06b5a",
   "metadata": {},
   "outputs": [
    {
     "data": {
      "text/plain": [
       "'0,1,2,3,4,5,6,7,8,9'"
      ]
     },
     "execution_count": 6,
     "metadata": {},
     "output_type": "execute_result"
    }
   ],
   "source": [
    "','.join([str(i) for i in range(10)])"
   ]
  },
  {
   "cell_type": "markdown",
   "id": "8a834238-5890-4fc9-b506-7e8a0f750cc1",
   "metadata": {},
   "source": [
    "<b>String Methods partition and rpartition</b>"
   ]
  },
  {
   "cell_type": "code",
   "execution_count": 7,
   "id": "945f453e-a79c-49d2-a2f1-21d172c56f53",
   "metadata": {},
   "outputs": [
    {
     "data": {
      "text/plain": [
       "('Naiema', ': ', '89, 97, 92')"
      ]
     },
     "execution_count": 7,
     "metadata": {},
     "output_type": "execute_result"
    }
   ],
   "source": [
    "'Naiema: 89, 97, 92'.partition(': ')"
   ]
  },
  {
   "cell_type": "code",
   "execution_count": 8,
   "id": "e35e4350-5cee-446d-bd52-a2561c01c76f",
   "metadata": {},
   "outputs": [],
   "source": [
    "url = 'http://www.deitel.com/books/PyCDS/table_of_contents.html'"
   ]
  },
  {
   "cell_type": "code",
   "execution_count": 9,
   "id": "2efdf450-894c-4dba-a09b-90a4d0830dca",
   "metadata": {},
   "outputs": [],
   "source": [
    "rest_of_url, separator, document = url.rpartition('/')"
   ]
  },
  {
   "cell_type": "code",
   "execution_count": 10,
   "id": "eab60b6c-739e-4c39-a4bd-a877f72deae5",
   "metadata": {},
   "outputs": [
    {
     "data": {
      "text/plain": [
       "'table_of_contents.html'"
      ]
     },
     "execution_count": 10,
     "metadata": {},
     "output_type": "execute_result"
    }
   ],
   "source": [
    "document"
   ]
  },
  {
   "cell_type": "code",
   "execution_count": 11,
   "id": "f64deeeb-c7fb-47ed-8152-b990d93200ad",
   "metadata": {},
   "outputs": [
    {
     "data": {
      "text/plain": [
       "'http://www.deitel.com/books/PyCDS'"
      ]
     },
     "execution_count": 11,
     "metadata": {},
     "output_type": "execute_result"
    }
   ],
   "source": [
    "rest_of_url"
   ]
  },
  {
   "cell_type": "markdown",
   "id": "140fb4e3-d50a-441e-8a9a-824b708b151c",
   "metadata": {},
   "source": [
    "<b> String Method splitlines</b>"
   ]
  },
  {
   "cell_type": "code",
   "execution_count": 12,
   "id": "8840c43b-2413-4281-9c38-69a88b13a778",
   "metadata": {},
   "outputs": [],
   "source": [
    "lines = \"\"\"This is line 1\n",
    "    This is line2\n",
    "    This is line3\"\"\""
   ]
  },
  {
   "cell_type": "code",
   "execution_count": 13,
   "id": "946e8d34-e137-417f-bc03-532961fac4fb",
   "metadata": {},
   "outputs": [
    {
     "data": {
      "text/plain": [
       "'This is line 1\\n    This is line2\\n    This is line3'"
      ]
     },
     "execution_count": 13,
     "metadata": {},
     "output_type": "execute_result"
    }
   ],
   "source": [
    "lines"
   ]
  },
  {
   "cell_type": "code",
   "execution_count": 14,
   "id": "a8698e4b-ace4-4b15-b340-3ca4d7766d11",
   "metadata": {},
   "outputs": [
    {
     "data": {
      "text/plain": [
       "['This is line 1', '    This is line2', '    This is line3']"
      ]
     },
     "execution_count": 14,
     "metadata": {},
     "output_type": "execute_result"
    }
   ],
   "source": [
    "lines.splitlines()"
   ]
  },
  {
   "cell_type": "code",
   "execution_count": 15,
   "id": "2c0f92a6-ba1c-42d6-b683-437a8f88a9db",
   "metadata": {},
   "outputs": [
    {
     "data": {
      "text/plain": [
       "['This is line 1\\n', '    This is line2\\n', '    This is line3']"
      ]
     },
     "execution_count": 15,
     "metadata": {},
     "output_type": "execute_result"
    }
   ],
   "source": [
    "lines.splitlines(True)"
   ]
  },
  {
   "cell_type": "markdown",
   "id": "9d2b426a-e531-463e-8f70-2f6c8c42863b",
   "metadata": {},
   "source": [
    "<b> Self Check</b>"
   ]
  },
  {
   "cell_type": "code",
   "execution_count": 16,
   "id": "01e78353-40cc-45de-8dd1-1ce4960811fc",
   "metadata": {},
   "outputs": [
    {
     "data": {
      "text/plain": [
       "'Elsaadi, Naiema'"
      ]
     },
     "execution_count": 16,
     "metadata": {},
     "output_type": "execute_result"
    }
   ],
   "source": [
    "', '.join(reversed('Naiema Elsaadi'.split()))"
   ]
  },
  {
   "cell_type": "code",
   "execution_count": 17,
   "id": "3985dde3-ed25-4b8d-a18f-dd23e1c17d78",
   "metadata": {},
   "outputs": [],
   "source": [
    "url = 'http://www.deitel.com/books/PyCDS/table_of_contents.html'"
   ]
  },
  {
   "cell_type": "code",
   "execution_count": 18,
   "id": "0d6fb3f1-a175-4354-9f54-3db5a335f6fd",
   "metadata": {},
   "outputs": [],
   "source": [
    "protocol, separator, rest_of_url = url.partition('://')"
   ]
  },
  {
   "cell_type": "code",
   "execution_count": 19,
   "id": "41c17005-1c93-4349-b5eb-af2be5ee63c4",
   "metadata": {},
   "outputs": [],
   "source": [
    "host, separator, document_with_path = rest_of_url.partition('/')"
   ]
  },
  {
   "cell_type": "code",
   "execution_count": 20,
   "id": "42a61209-26cc-4963-9bb7-28f8bd96f373",
   "metadata": {},
   "outputs": [
    {
     "data": {
      "text/plain": [
       "'www.deitel.com'"
      ]
     },
     "execution_count": 20,
     "metadata": {},
     "output_type": "execute_result"
    }
   ],
   "source": [
    "host"
   ]
  },
  {
   "cell_type": "code",
   "execution_count": 21,
   "id": "7a4986aa-2e00-4be8-8caf-2984527e86e7",
   "metadata": {},
   "outputs": [],
   "source": [
    "path, separator, document = document_with_path.rpartition('/')"
   ]
  },
  {
   "cell_type": "code",
   "execution_count": 22,
   "id": "7bfe295d-7ee4-4cf2-91e4-039ee5484c14",
   "metadata": {},
   "outputs": [
    {
     "data": {
      "text/plain": [
       "'books/PyCDS'"
      ]
     },
     "execution_count": 22,
     "metadata": {},
     "output_type": "execute_result"
    }
   ],
   "source": [
    "path"
   ]
  },
  {
   "cell_type": "markdown",
   "id": "f601e95b-6f55-4337-8c7b-a29718a51507",
   "metadata": {},
   "source": [
    "# 8.10 Characters and Character-Testing Methods"
   ]
  },
  {
   "cell_type": "code",
   "execution_count": 23,
   "id": "77f38b12-e0bf-48b8-8cf8-a256d5a4632d",
   "metadata": {},
   "outputs": [
    {
     "data": {
      "text/plain": [
       "False"
      ]
     },
     "execution_count": 23,
     "metadata": {},
     "output_type": "execute_result"
    }
   ],
   "source": [
    "'-27'.isdigit()"
   ]
  },
  {
   "cell_type": "code",
   "execution_count": 24,
   "id": "f7f47253-2e9e-4a26-ba7a-aa4a2668de3d",
   "metadata": {},
   "outputs": [
    {
     "data": {
      "text/plain": [
       "True"
      ]
     },
     "execution_count": 24,
     "metadata": {},
     "output_type": "execute_result"
    }
   ],
   "source": [
    "'27'.isdigit()"
   ]
  },
  {
   "cell_type": "code",
   "execution_count": 25,
   "id": "4fdac84d-15f4-4fa8-a2bd-7e6a0610a40d",
   "metadata": {},
   "outputs": [
    {
     "data": {
      "text/plain": [
       "True"
      ]
     },
     "execution_count": 25,
     "metadata": {},
     "output_type": "execute_result"
    }
   ],
   "source": [
    "'A9876'.isalnum()"
   ]
  },
  {
   "cell_type": "code",
   "execution_count": 26,
   "id": "9ccaaa59-5d08-4d44-96d4-c2cefb031d05",
   "metadata": {},
   "outputs": [
    {
     "data": {
      "text/plain": [
       "False"
      ]
     },
     "execution_count": 26,
     "metadata": {},
     "output_type": "execute_result"
    }
   ],
   "source": [
    "'123 Main Street'.isalnum()"
   ]
  },
  {
   "cell_type": "markdown",
   "id": "4ac405c1-cc5e-4121-baa5-8b16c853fb19",
   "metadata": {},
   "source": [
    "# 8.11 Raw Strings"
   ]
  },
  {
   "cell_type": "code",
   "execution_count": 27,
   "id": "7919d179-d8d1-4716-88e5-0f89788115fd",
   "metadata": {},
   "outputs": [],
   "source": [
    "file_path = 'C:\\\\MyFolder\\\\MySubFolder\\\\MyFile.txt'"
   ]
  },
  {
   "cell_type": "code",
   "execution_count": 28,
   "id": "c5aeff51-c5e9-4056-be01-f0f4e8b86b28",
   "metadata": {},
   "outputs": [
    {
     "data": {
      "text/plain": [
       "'C:\\\\MyFolder\\\\MySubFolder\\\\MyFile.txt'"
      ]
     },
     "execution_count": 28,
     "metadata": {},
     "output_type": "execute_result"
    }
   ],
   "source": [
    "file_path "
   ]
  },
  {
   "cell_type": "code",
   "execution_count": 29,
   "id": "81f9d83e-b2e6-4b20-90fa-4115858aeac7",
   "metadata": {},
   "outputs": [],
   "source": [
    "file_path = r'C:\\MyFolder\\MySubFolder\\MyFile.txt'"
   ]
  },
  {
   "cell_type": "code",
   "execution_count": 30,
   "id": "9021f97d-48bb-4f4b-a817-fe853d00f560",
   "metadata": {},
   "outputs": [
    {
     "data": {
      "text/plain": [
       "'C:\\\\MyFolder\\\\MySubFolder\\\\MyFile.txt'"
      ]
     },
     "execution_count": 30,
     "metadata": {},
     "output_type": "execute_result"
    }
   ],
   "source": [
    "file_path "
   ]
  },
  {
   "cell_type": "markdown",
   "id": "2bc706b1-2c46-43b4-9fe2-4a49a6391d01",
   "metadata": {},
   "source": [
    "# 8.12 Introduction to Regular Expressions"
   ]
  },
  {
   "cell_type": "markdown",
   "id": "f5eaeb5b-1e7e-4eb5-a6e5-eb60822de8bd",
   "metadata": {},
   "source": [
    "# 8.12.1 re Modlule and Function fullmatch"
   ]
  },
  {
   "cell_type": "code",
   "execution_count": 31,
   "id": "c45f17cc-7f29-4de3-96b0-b21a8ff703d5",
   "metadata": {},
   "outputs": [],
   "source": [
    "import re"
   ]
  },
  {
   "cell_type": "code",
   "execution_count": 32,
   "id": "7e63d16c-da9e-497a-810d-bb0657a21a91",
   "metadata": {},
   "outputs": [],
   "source": [
    "pattern = '02215'"
   ]
  },
  {
   "cell_type": "code",
   "execution_count": 33,
   "id": "5302fbad-3635-4f35-9296-ae6c80de3165",
   "metadata": {},
   "outputs": [
    {
     "data": {
      "text/plain": [
       "'Match'"
      ]
     },
     "execution_count": 33,
     "metadata": {},
     "output_type": "execute_result"
    }
   ],
   "source": [
    "'Match' if re.fullmatch(pattern, '02215') else 'No Match'"
   ]
  },
  {
   "cell_type": "code",
   "execution_count": 34,
   "id": "1d929c45-d85e-40c2-ac94-298b70c56153",
   "metadata": {},
   "outputs": [
    {
     "data": {
      "text/plain": [
       "'No Match'"
      ]
     },
     "execution_count": 34,
     "metadata": {},
     "output_type": "execute_result"
    }
   ],
   "source": [
    "'Match' if re.fullmatch(pattern, '51220') else 'No Match'"
   ]
  },
  {
   "cell_type": "markdown",
   "id": "557725b3-6069-4406-8833-f907336c6469",
   "metadata": {},
   "source": [
    "<b>Metacharacters, Character Classes and Quantifiers</b>"
   ]
  },
  {
   "cell_type": "code",
   "execution_count": 35,
   "id": "ccae7948-c0a4-4d0e-863a-4f80e0fdc32c",
   "metadata": {},
   "outputs": [
    {
     "data": {
      "text/plain": [
       "'Valid'"
      ]
     },
     "execution_count": 35,
     "metadata": {},
     "output_type": "execute_result"
    }
   ],
   "source": [
    "'Valid' if re.fullmatch(r'\\d{5}', '02215') else 'Invalid'"
   ]
  },
  {
   "cell_type": "code",
   "execution_count": 36,
   "id": "9a88d9be-3bcf-4ed9-8899-6932f682c058",
   "metadata": {},
   "outputs": [
    {
     "data": {
      "text/plain": [
       "'Invalid'"
      ]
     },
     "execution_count": 36,
     "metadata": {},
     "output_type": "execute_result"
    }
   ],
   "source": [
    "'Valid' if re.fullmatch(r'\\d{5}', '9876') else 'Invalid'"
   ]
  },
  {
   "cell_type": "markdown",
   "id": "a779ada7-e69c-4cc3-8823-ab799de407a6",
   "metadata": {},
   "source": [
    "<b> Custom Character Classes </b>"
   ]
  },
  {
   "cell_type": "code",
   "execution_count": 37,
   "id": "2d6ee951-e6a6-46a5-98c7-05d5e06a55ec",
   "metadata": {},
   "outputs": [
    {
     "data": {
      "text/plain": [
       "'Valid'"
      ]
     },
     "execution_count": 37,
     "metadata": {},
     "output_type": "execute_result"
    }
   ],
   "source": [
    "'Valid' if re.fullmatch('[A-Z][a-z]*', 'Wally') else 'Invalid'"
   ]
  },
  {
   "cell_type": "code",
   "execution_count": 38,
   "id": "729d6859-0ed5-4cf9-bd78-dfb0cf5eaee5",
   "metadata": {},
   "outputs": [
    {
     "data": {
      "text/plain": [
       "'Invalid'"
      ]
     },
     "execution_count": 38,
     "metadata": {},
     "output_type": "execute_result"
    }
   ],
   "source": [
    "'Valid' if re.fullmatch('[A-Z][a-z]*', 'eva') else 'Invalid'"
   ]
  },
  {
   "cell_type": "code",
   "execution_count": 39,
   "id": "2b4d3a21-b5ef-4043-9748-4ffaa7af20de",
   "metadata": {},
   "outputs": [
    {
     "data": {
      "text/plain": [
       "'Match'"
      ]
     },
     "execution_count": 39,
     "metadata": {},
     "output_type": "execute_result"
    }
   ],
   "source": [
    "'Match' if re.fullmatch('[^a-z]', 'A') else 'No match'"
   ]
  },
  {
   "cell_type": "code",
   "execution_count": 40,
   "id": "d5707a97-cad3-437f-9f61-4e220e168c27",
   "metadata": {},
   "outputs": [
    {
     "data": {
      "text/plain": [
       "'No match'"
      ]
     },
     "execution_count": 40,
     "metadata": {},
     "output_type": "execute_result"
    }
   ],
   "source": [
    "'Match' if re.fullmatch('[^a-z]', 'a') else 'No match'"
   ]
  },
  {
   "cell_type": "code",
   "execution_count": 41,
   "id": "7084de90-9906-4371-9aab-77106026f4bc",
   "metadata": {},
   "outputs": [
    {
     "data": {
      "text/plain": [
       "'Match'"
      ]
     },
     "execution_count": 41,
     "metadata": {},
     "output_type": "execute_result"
    }
   ],
   "source": [
    "'Match' if re.fullmatch('[*+$]', '*') else 'No match'"
   ]
  },
  {
   "cell_type": "code",
   "execution_count": 42,
   "id": "1547443d-921d-4b27-ace7-ad0c52d47262",
   "metadata": {},
   "outputs": [
    {
     "data": {
      "text/plain": [
       "'No match'"
      ]
     },
     "execution_count": 42,
     "metadata": {},
     "output_type": "execute_result"
    }
   ],
   "source": [
    "'Match' if re.fullmatch('[*+$]', '!') else 'No match'"
   ]
  },
  {
   "cell_type": "markdown",
   "id": "9d964eef-e90c-42cb-8f78-0d4fbe0d43cc",
   "metadata": {},
   "source": [
    "<b> * vs. + Quantifier </b>"
   ]
  },
  {
   "cell_type": "code",
   "execution_count": 43,
   "id": "37f630ac-21fc-4d4d-b083-f869633d9923",
   "metadata": {},
   "outputs": [
    {
     "data": {
      "text/plain": [
       "'Valid'"
      ]
     },
     "execution_count": 43,
     "metadata": {},
     "output_type": "execute_result"
    }
   ],
   "source": [
    "'Valid' if re.fullmatch('[A-Z][a-z]+', 'Wally') else 'Invalid'"
   ]
  },
  {
   "cell_type": "code",
   "execution_count": 44,
   "id": "33e7993f-32fe-45e7-b278-5223699d4c04",
   "metadata": {},
   "outputs": [
    {
     "data": {
      "text/plain": [
       "'Invalid'"
      ]
     },
     "execution_count": 44,
     "metadata": {},
     "output_type": "execute_result"
    }
   ],
   "source": [
    "'Valid' if re.fullmatch('[A-Z][a-z]+', 'E') else 'Invalid'"
   ]
  },
  {
   "cell_type": "markdown",
   "id": "0f49d102-dde7-4cb5-bdf0-9fdbed3ab868",
   "metadata": {},
   "source": [
    "<b> Other Quantifiers</b>"
   ]
  },
  {
   "cell_type": "code",
   "execution_count": 45,
   "id": "f8f6954f-5305-43f8-b6cc-9c31fe253f73",
   "metadata": {},
   "outputs": [
    {
     "data": {
      "text/plain": [
       "'Match'"
      ]
     },
     "execution_count": 45,
     "metadata": {},
     "output_type": "execute_result"
    }
   ],
   "source": [
    "'Match' if re.fullmatch('labell?ed', 'labelled') else 'No match'"
   ]
  },
  {
   "cell_type": "code",
   "execution_count": 46,
   "id": "b48ed2bc-007d-4045-b3d7-9b25d2d0d5f7",
   "metadata": {},
   "outputs": [
    {
     "data": {
      "text/plain": [
       "'Match'"
      ]
     },
     "execution_count": 46,
     "metadata": {},
     "output_type": "execute_result"
    }
   ],
   "source": [
    "'Match' if re.fullmatch('labell?ed', 'labeled') else 'No match'"
   ]
  },
  {
   "cell_type": "code",
   "execution_count": 47,
   "id": "b113878e-98c1-402c-b265-3d51d4b26aee",
   "metadata": {},
   "outputs": [
    {
     "data": {
      "text/plain": [
       "'No match'"
      ]
     },
     "execution_count": 47,
     "metadata": {},
     "output_type": "execute_result"
    }
   ],
   "source": [
    "'Match' if re.fullmatch('labell?ed', 'labellled') else 'No match'"
   ]
  },
  {
   "cell_type": "code",
   "execution_count": 48,
   "id": "f31f0238-ff91-4b05-b6d7-9ec946b64a94",
   "metadata": {},
   "outputs": [
    {
     "data": {
      "text/plain": [
       "'Match'"
      ]
     },
     "execution_count": 48,
     "metadata": {},
     "output_type": "execute_result"
    }
   ],
   "source": [
    "'Match' if re.fullmatch(r'\\d{3,}', '123') else 'No match'"
   ]
  },
  {
   "cell_type": "code",
   "execution_count": 49,
   "id": "e1afca71-2313-4208-8b68-f1ac09188629",
   "metadata": {},
   "outputs": [
    {
     "data": {
      "text/plain": [
       "'Match'"
      ]
     },
     "execution_count": 49,
     "metadata": {},
     "output_type": "execute_result"
    }
   ],
   "source": [
    "'Match' if re.fullmatch(r'\\d{3,}', '1234567890') else 'No match'"
   ]
  },
  {
   "cell_type": "code",
   "execution_count": 50,
   "id": "149bb40d-2cbc-47ff-8938-ecb27fce0a09",
   "metadata": {},
   "outputs": [
    {
     "data": {
      "text/plain": [
       "'No match'"
      ]
     },
     "execution_count": 50,
     "metadata": {},
     "output_type": "execute_result"
    }
   ],
   "source": [
    "'Match' if re.fullmatch(r'\\d{3,}', '12') else 'No match'"
   ]
  },
  {
   "cell_type": "code",
   "execution_count": 51,
   "id": "a8fdc4ad-a08a-4c4a-87c6-f550040d6617",
   "metadata": {},
   "outputs": [
    {
     "data": {
      "text/plain": [
       "'Match'"
      ]
     },
     "execution_count": 51,
     "metadata": {},
     "output_type": "execute_result"
    }
   ],
   "source": [
    "'Match' if re.fullmatch(r'\\d{3,6}', '123') else 'No match'"
   ]
  },
  {
   "cell_type": "code",
   "execution_count": 52,
   "id": "3b020e74-6a11-4fdc-a3a4-955f202e84f1",
   "metadata": {},
   "outputs": [
    {
     "data": {
      "text/plain": [
       "'Match'"
      ]
     },
     "execution_count": 52,
     "metadata": {},
     "output_type": "execute_result"
    }
   ],
   "source": [
    "'Match' if re.fullmatch(r'\\d{3,6}', '123456') else 'No match'"
   ]
  },
  {
   "cell_type": "code",
   "execution_count": 53,
   "id": "089547bf-130b-4ee8-946f-c425ce626551",
   "metadata": {},
   "outputs": [
    {
     "data": {
      "text/plain": [
       "'No match'"
      ]
     },
     "execution_count": 53,
     "metadata": {},
     "output_type": "execute_result"
    }
   ],
   "source": [
    "'Match' if re.fullmatch(r'\\d{3,6}', '1234567') else 'No match'"
   ]
  },
  {
   "cell_type": "code",
   "execution_count": 54,
   "id": "d38d6259-cad4-4ddc-8d8e-bc93acdd951c",
   "metadata": {},
   "outputs": [
    {
     "data": {
      "text/plain": [
       "'No match'"
      ]
     },
     "execution_count": 54,
     "metadata": {},
     "output_type": "execute_result"
    }
   ],
   "source": [
    "'Match' if re.fullmatch(r'\\d{3,6}', '12') else 'No match'"
   ]
  },
  {
   "cell_type": "markdown",
   "id": "1e208709-5aa5-44c1-8dc0-d0086eb48e64",
   "metadata": {},
   "source": [
    "<b> Self Check</b>"
   ]
  },
  {
   "cell_type": "code",
   "execution_count": 55,
   "id": "8e7c08d6-ec17-447b-b870-14bfb410803c",
   "metadata": {},
   "outputs": [],
   "source": [
    "import re"
   ]
  },
  {
   "cell_type": "code",
   "execution_count": 56,
   "id": "2200fc6a-f7f2-4bbc-ae44-14a0189637b8",
   "metadata": {},
   "outputs": [],
   "source": [
    "street = r'\\d+ [A-Z][a-z]* [A-Z][a-z]*'"
   ]
  },
  {
   "cell_type": "code",
   "execution_count": 57,
   "id": "624a2773-91c7-468a-962f-c4d37f3e9a38",
   "metadata": {},
   "outputs": [
    {
     "data": {
      "text/plain": [
       "'Match'"
      ]
     },
     "execution_count": 57,
     "metadata": {},
     "output_type": "execute_result"
    }
   ],
   "source": [
    "'Match' if re.fullmatch(street, '123 Main Street') else 'No match'"
   ]
  },
  {
   "cell_type": "code",
   "execution_count": 58,
   "id": "e0beba8e-9397-416e-ab31-7b9f0b621e8e",
   "metadata": {},
   "outputs": [
    {
     "data": {
      "text/plain": [
       "'No match'"
      ]
     },
     "execution_count": 58,
     "metadata": {},
     "output_type": "execute_result"
    }
   ],
   "source": [
    "'Match' if re.fullmatch(street, 'Main Street') else 'No match'"
   ]
  },
  {
   "cell_type": "markdown",
   "id": "74e941ea-599d-4094-8847-a010f3249c61",
   "metadata": {},
   "source": [
    "# 8.12.2 Replacing Substrings and Splitting Strings"
   ]
  },
  {
   "cell_type": "markdown",
   "id": "fc0c82d9-3388-41d6-82a1-80b26c6bf022",
   "metadata": {},
   "source": [
    "<b> Function sub-Replacing Patterns </b>"
   ]
  },
  {
   "cell_type": "code",
   "execution_count": 59,
   "id": "58505c3e-9eba-47f9-9813-17e787ba3937",
   "metadata": {},
   "outputs": [],
   "source": [
    "import re"
   ]
  },
  {
   "cell_type": "code",
   "execution_count": 60,
   "id": "059f9842-e501-40d8-b0bc-68e50c0816c4",
   "metadata": {},
   "outputs": [
    {
     "data": {
      "text/plain": [
       "'1, 2, 3, 4'"
      ]
     },
     "execution_count": 60,
     "metadata": {},
     "output_type": "execute_result"
    }
   ],
   "source": [
    "re.sub(r'\\t', ', ', '1\\t2\\t3\\t4')"
   ]
  },
  {
   "cell_type": "code",
   "execution_count": 61,
   "id": "8babbdde-533d-431e-b760-b2e095355b86",
   "metadata": {},
   "outputs": [
    {
     "data": {
      "text/plain": [
       "'1, 2, 3\\t4'"
      ]
     },
     "execution_count": 61,
     "metadata": {},
     "output_type": "execute_result"
    }
   ],
   "source": [
    "re.sub(r'\\t', ', ', '1\\t2\\t3\\t4', count=2)"
   ]
  },
  {
   "cell_type": "markdown",
   "id": "f45fe2bc-e397-4c10-81ce-e2f92e80332d",
   "metadata": {},
   "source": [
    "<b>Function split </b>"
   ]
  },
  {
   "cell_type": "code",
   "execution_count": 62,
   "id": "a1bd0352-570c-4d1a-a541-6b116ae95c5c",
   "metadata": {},
   "outputs": [
    {
     "data": {
      "text/plain": [
       "['1', '2', '3', '4', '5', '6', '7', '8']"
      ]
     },
     "execution_count": 62,
     "metadata": {},
     "output_type": "execute_result"
    }
   ],
   "source": [
    "re.split(r',\\s*', '1, 2, 3,4,    5,6,7,8')"
   ]
  },
  {
   "cell_type": "code",
   "execution_count": 63,
   "id": "313bddde-416a-4673-a29d-178436c387f3",
   "metadata": {},
   "outputs": [
    {
     "data": {
      "text/plain": [
       "['1', '2', '3', '4,    5,6,7,8']"
      ]
     },
     "execution_count": 63,
     "metadata": {},
     "output_type": "execute_result"
    }
   ],
   "source": [
    "re.split(r',\\s*', '1, 2, 3,4,    5,6,7,8', maxsplit=3)"
   ]
  },
  {
   "cell_type": "markdown",
   "id": "ba5c7edf-63a3-4c8e-b894-e7adbbccada8",
   "metadata": {},
   "source": [
    "<b> Self Check</b>"
   ]
  },
  {
   "cell_type": "code",
   "execution_count": 64,
   "id": "967a9d31-769e-4cd9-9893-199d6ea0d20a",
   "metadata": {},
   "outputs": [],
   "source": [
    "import re"
   ]
  },
  {
   "cell_type": "code",
   "execution_count": 65,
   "id": "62ed0ed1-4f67-46b6-a1ea-5abc7ee4098a",
   "metadata": {},
   "outputs": [
    {
     "data": {
      "text/plain": [
       "'A, B, C, D'"
      ]
     },
     "execution_count": 65,
     "metadata": {},
     "output_type": "execute_result"
    }
   ],
   "source": [
    "re.sub(r'\\t+', ', ', 'A\\tB\\t\\tC\\t\\t\\tD')"
   ]
  },
  {
   "cell_type": "code",
   "execution_count": 66,
   "id": "b816eb0a-d854-4368-a50c-65efc0390cc6",
   "metadata": {},
   "outputs": [
    {
     "data": {
      "text/plain": [
       "['123', 'Main', 'Street']"
      ]
     },
     "execution_count": 66,
     "metadata": {},
     "output_type": "execute_result"
    }
   ],
   "source": [
    "re.split('\\$+', '123$Main$$Street')"
   ]
  },
  {
   "cell_type": "markdown",
   "id": "eda6cec0-ba9f-4482-9537-25a073c1c8f7",
   "metadata": {},
   "source": [
    "# 8.12.3 Other Search Functions; Accessing Matches"
   ]
  },
  {
   "cell_type": "markdown",
   "id": "e3e01d8e-3b6a-4fc4-9115-229b332cb5bf",
   "metadata": {},
   "source": [
    "<b> Function search - Finding the First Match Anywhere in a String</b>"
   ]
  },
  {
   "cell_type": "code",
   "execution_count": 67,
   "id": "75a61b97-c62c-42ce-a6b2-f19d069d48a7",
   "metadata": {},
   "outputs": [],
   "source": [
    "import re"
   ]
  },
  {
   "cell_type": "code",
   "execution_count": 68,
   "id": "08f9d958-9d43-437c-a372-72b91a7157f6",
   "metadata": {},
   "outputs": [],
   "source": [
    "result = re.search('Python', 'Python is fun')"
   ]
  },
  {
   "cell_type": "code",
   "execution_count": 69,
   "id": "9b9207f7-5461-4223-973d-d80da4284a1c",
   "metadata": {},
   "outputs": [
    {
     "data": {
      "text/plain": [
       "'Python'"
      ]
     },
     "execution_count": 69,
     "metadata": {},
     "output_type": "execute_result"
    }
   ],
   "source": [
    "result.group() if result else 'not found'"
   ]
  },
  {
   "cell_type": "code",
   "execution_count": 70,
   "id": "152c4a90-92c8-41e0-a94b-f4f7bac4d2e1",
   "metadata": {},
   "outputs": [],
   "source": [
    "result2 = re.search('fun!', 'Python is fun')"
   ]
  },
  {
   "cell_type": "code",
   "execution_count": 71,
   "id": "7162c57a-4881-41e9-9b89-09d65c8cc646",
   "metadata": {},
   "outputs": [
    {
     "data": {
      "text/plain": [
       "'not found'"
      ]
     },
     "execution_count": 71,
     "metadata": {},
     "output_type": "execute_result"
    }
   ],
   "source": [
    "result2.group() if result2 else 'not found'"
   ]
  },
  {
   "cell_type": "markdown",
   "id": "8b314ae0-3d02-4def-9c24-c5888bd220d7",
   "metadata": {},
   "source": [
    "<b> Ignoring Case With the Optional flags Keyword Argument</b>"
   ]
  },
  {
   "cell_type": "code",
   "execution_count": 72,
   "id": "95ea5817-d937-4dbb-aefa-1ced7c0498fe",
   "metadata": {},
   "outputs": [],
   "source": [
    "result3 = re.search('Naiema', 'NAIEMA ELSAADI', flags=re.IGNORECASE)"
   ]
  },
  {
   "cell_type": "code",
   "execution_count": 73,
   "id": "d6e6e2bb-d5cd-41d1-8725-dcbc620aa3df",
   "metadata": {},
   "outputs": [
    {
     "data": {
      "text/plain": [
       "'NAIEMA'"
      ]
     },
     "execution_count": 73,
     "metadata": {},
     "output_type": "execute_result"
    }
   ],
   "source": [
    "result3.group() if result3 else 'not found'"
   ]
  },
  {
   "cell_type": "markdown",
   "id": "9795f4e8-3e99-4eeb-b997-97860029c5d3",
   "metadata": {},
   "source": [
    "<b> Metacharacters That Restrict Matches to the Beginning or End of a String</b>"
   ]
  },
  {
   "cell_type": "code",
   "execution_count": 74,
   "id": "ad15ef9c-34c8-4513-bde5-0a99547551aa",
   "metadata": {},
   "outputs": [],
   "source": [
    "result = re.search('^Python', 'Python is fun')"
   ]
  },
  {
   "cell_type": "code",
   "execution_count": 75,
   "id": "25ca5307-4a74-44c5-bde2-33bbb2bf58fa",
   "metadata": {},
   "outputs": [
    {
     "data": {
      "text/plain": [
       "'Python'"
      ]
     },
     "execution_count": 75,
     "metadata": {},
     "output_type": "execute_result"
    }
   ],
   "source": [
    "result.group() if result else 'not found'"
   ]
  },
  {
   "cell_type": "code",
   "execution_count": 76,
   "id": "0fc1679e-32d4-4139-9aaa-46891803bb33",
   "metadata": {},
   "outputs": [],
   "source": [
    "result = re.search('^fun', 'Python is fun')"
   ]
  },
  {
   "cell_type": "code",
   "execution_count": 77,
   "id": "de647e14-ef2b-44c3-b498-2cd48ab6428f",
   "metadata": {},
   "outputs": [
    {
     "data": {
      "text/plain": [
       "'not found'"
      ]
     },
     "execution_count": 77,
     "metadata": {},
     "output_type": "execute_result"
    }
   ],
   "source": [
    "result.group() if result else 'not found'"
   ]
  },
  {
   "cell_type": "code",
   "execution_count": 78,
   "id": "38d98da0-0bd1-476b-81bd-68acc6a719a8",
   "metadata": {},
   "outputs": [],
   "source": [
    "result = re.search('Python$', 'Python is fun')"
   ]
  },
  {
   "cell_type": "code",
   "execution_count": 79,
   "id": "6c03ac01-a783-4182-a969-393ba32dcb8f",
   "metadata": {},
   "outputs": [
    {
     "data": {
      "text/plain": [
       "'not found'"
      ]
     },
     "execution_count": 79,
     "metadata": {},
     "output_type": "execute_result"
    }
   ],
   "source": [
    "result.group() if result else 'not found'"
   ]
  },
  {
   "cell_type": "code",
   "execution_count": 80,
   "id": "4080dfa7-679b-411b-8911-7cc183176550",
   "metadata": {},
   "outputs": [],
   "source": [
    "result = re.search('fun$', 'Python is fun')"
   ]
  },
  {
   "cell_type": "code",
   "execution_count": 81,
   "id": "1796170e-151e-415a-9a87-c339db4e9a3f",
   "metadata": {},
   "outputs": [
    {
     "data": {
      "text/plain": [
       "'fun'"
      ]
     },
     "execution_count": 81,
     "metadata": {},
     "output_type": "execute_result"
    }
   ],
   "source": [
    "result.group() if result else 'not found'"
   ]
  },
  {
   "cell_type": "markdown",
   "id": "0019c136-9a0d-4b2d-9721-012f7564c41e",
   "metadata": {},
   "source": [
    "<b> Function findall and finditer - Finding All Matches in a String</b>"
   ]
  },
  {
   "cell_type": "code",
   "execution_count": 82,
   "id": "9cd03016-809d-459a-a8bb-1af867028be1",
   "metadata": {},
   "outputs": [],
   "source": [
    "contact = 'Naiema Elsaadi, Home: 555-555-1234, Work: 555-555-4321'"
   ]
  },
  {
   "cell_type": "code",
   "execution_count": 83,
   "id": "4172dbda-8d3c-4366-88da-8be84b78071e",
   "metadata": {},
   "outputs": [
    {
     "data": {
      "text/plain": [
       "['555-555-1234', '555-555-4321']"
      ]
     },
     "execution_count": 83,
     "metadata": {},
     "output_type": "execute_result"
    }
   ],
   "source": [
    "re.findall(r'\\d{3}-\\d{3}-\\d{4}', contact)"
   ]
  },
  {
   "cell_type": "code",
   "execution_count": 84,
   "id": "387343d6-e6a5-4685-993e-f5a7f78132c2",
   "metadata": {},
   "outputs": [
    {
     "name": "stdout",
     "output_type": "stream",
     "text": [
      "555-555-1234\n",
      "555-555-4321\n"
     ]
    }
   ],
   "source": [
    "for phone in re.finditer(r'\\d{3}-\\d{3}-\\d{4}', contact):\n",
    "    print(phone.group())\n",
    "    "
   ]
  },
  {
   "cell_type": "markdown",
   "id": "08a5470a-843c-444b-8a4f-15107b8e815f",
   "metadata": {},
   "source": [
    "<b>Capturing Substrings in a Match</b>"
   ]
  },
  {
   "cell_type": "code",
   "execution_count": 85,
   "id": "c047dd89-9470-463a-9edb-0cfabdea994f",
   "metadata": {},
   "outputs": [],
   "source": [
    "text = 'Naiema Elsaadi, email: demo1@deitel.com'"
   ]
  },
  {
   "cell_type": "code",
   "execution_count": 86,
   "id": "40fa5d14-16f5-4e3c-acde-bd6a3a2c0b5f",
   "metadata": {},
   "outputs": [],
   "source": [
    "pattern = r'([A-Z][a-z]+ [A-Z][a-z]+), email: (\\w+@\\w+\\.\\w{3})'"
   ]
  },
  {
   "cell_type": "code",
   "execution_count": 87,
   "id": "3556d1c5-e38f-4904-aeb4-3ef2be6ff6bd",
   "metadata": {},
   "outputs": [],
   "source": [
    "result = re.search(pattern, text)"
   ]
  },
  {
   "cell_type": "code",
   "execution_count": 88,
   "id": "18a30b16-55e7-41d6-9c67-562231b06721",
   "metadata": {},
   "outputs": [
    {
     "data": {
      "text/plain": [
       "('Naiema Elsaadi', 'demo1@deitel.com')"
      ]
     },
     "execution_count": 88,
     "metadata": {},
     "output_type": "execute_result"
    }
   ],
   "source": [
    "result.groups()"
   ]
  },
  {
   "cell_type": "code",
   "execution_count": 89,
   "id": "5165e343-c42a-4e16-a8bd-1392278b4d48",
   "metadata": {},
   "outputs": [
    {
     "data": {
      "text/plain": [
       "'Naiema Elsaadi, email: demo1@deitel.com'"
      ]
     },
     "execution_count": 89,
     "metadata": {},
     "output_type": "execute_result"
    }
   ],
   "source": [
    "result.group()"
   ]
  },
  {
   "cell_type": "code",
   "execution_count": 90,
   "id": "336b5216-916e-4618-8a97-bc67f2967985",
   "metadata": {},
   "outputs": [
    {
     "data": {
      "text/plain": [
       "'Naiema Elsaadi'"
      ]
     },
     "execution_count": 90,
     "metadata": {},
     "output_type": "execute_result"
    }
   ],
   "source": [
    "result.group(1)"
   ]
  },
  {
   "cell_type": "code",
   "execution_count": 91,
   "id": "a05530e8-6c3d-44c8-aa7d-a00426c0aa81",
   "metadata": {},
   "outputs": [
    {
     "data": {
      "text/plain": [
       "'demo1@deitel.com'"
      ]
     },
     "execution_count": 91,
     "metadata": {},
     "output_type": "execute_result"
    }
   ],
   "source": [
    "result.group(2)"
   ]
  },
  {
   "cell_type": "markdown",
   "id": "0e515d6d-a6bb-4d1c-933b-459236828213",
   "metadata": {},
   "source": [
    "<b> Self Check</b>"
   ]
  },
  {
   "cell_type": "code",
   "execution_count": 1,
   "id": "20cca63b-f69c-4864-8d64-77d69b2b7046",
   "metadata": {},
   "outputs": [],
   "source": [
    "import re"
   ]
  },
  {
   "cell_type": "code",
   "execution_count": 2,
   "id": "5f82e3d2-362a-4e34-a765-bb627ed54f02",
   "metadata": {},
   "outputs": [],
   "source": [
    "result = re.search(r'(\\d+) ([-+*/]) (\\d+)', '10 + 5')"
   ]
  },
  {
   "cell_type": "code",
   "execution_count": 3,
   "id": "12bec7be-cb9e-4a16-bad5-39a69a98e8cd",
   "metadata": {},
   "outputs": [
    {
     "data": {
      "text/plain": [
       "('10', '+', '5')"
      ]
     },
     "execution_count": 3,
     "metadata": {},
     "output_type": "execute_result"
    }
   ],
   "source": [
    "result.groups()"
   ]
  },
  {
   "cell_type": "code",
   "execution_count": 4,
   "id": "4eded57c-10f1-44d6-b744-c92063f2a5f8",
   "metadata": {},
   "outputs": [
    {
     "data": {
      "text/plain": [
       "'10'"
      ]
     },
     "execution_count": 4,
     "metadata": {},
     "output_type": "execute_result"
    }
   ],
   "source": [
    "result.group(1)"
   ]
  },
  {
   "cell_type": "code",
   "execution_count": 5,
   "id": "54fa8158-b3db-4f00-b5b9-d75ff4b2c9ca",
   "metadata": {},
   "outputs": [
    {
     "data": {
      "text/plain": [
       "'+'"
      ]
     },
     "execution_count": 5,
     "metadata": {},
     "output_type": "execute_result"
    }
   ],
   "source": [
    "result.group(2)"
   ]
  },
  {
   "cell_type": "code",
   "execution_count": 6,
   "id": "31fcf4d1-1746-4f96-b4ce-ccf5285bbcc1",
   "metadata": {},
   "outputs": [
    {
     "data": {
      "text/plain": [
       "'5'"
      ]
     },
     "execution_count": 6,
     "metadata": {},
     "output_type": "execute_result"
    }
   ],
   "source": [
    "result.group(3)"
   ]
  },
  {
   "cell_type": "code",
   "execution_count": 7,
   "id": "16a34f7d-217d-4308-968a-299236f0c844",
   "metadata": {},
   "outputs": [
    {
     "name": "stdout",
     "output_type": "stream",
     "text": [
      " My name is Naiema Elsaadi\n"
     ]
    }
   ],
   "source": [
    "print(' My name is Naiema Elsaadi')"
   ]
  }
 ],
 "metadata": {
  "kernelspec": {
   "display_name": "Python 3 (ipykernel)",
   "language": "python",
   "name": "python3"
  },
  "language_info": {
   "codemirror_mode": {
    "name": "ipython",
    "version": 3
   },
   "file_extension": ".py",
   "mimetype": "text/x-python",
   "name": "python",
   "nbconvert_exporter": "python",
   "pygments_lexer": "ipython3",
   "version": "3.9.12"
  }
 },
 "nbformat": 4,
 "nbformat_minor": 5
}
