{
 "cells": [
  {
   "cell_type": "markdown",
   "id": "b87ae6e8-bdf1-45cf-bcae-9dbf00a75a86",
   "metadata": {},
   "source": [
    "# 7.2 Creating arrays from Existing Data\n",
    "<b> The NumPy documentation recommends importing the numpy module as np so that you can access its members with \"np.\":</b>"
   ]
  },
  {
   "cell_type": "code",
   "execution_count": 1,
   "id": "00ce9c8b-3758-4d8b-80ae-3e44d3870234",
   "metadata": {},
   "outputs": [],
   "source": [
    "import numpy as np"
   ]
  },
  {
   "cell_type": "code",
   "execution_count": 2,
   "id": "e74333ee-09ee-4f66-a57b-20a440ced49f",
   "metadata": {},
   "outputs": [],
   "source": [
    "## The numpy mpdule provide various function for creating arrays."
   ]
  },
  {
   "cell_type": "code",
   "execution_count": 3,
   "id": "4868906b-d135-4cc9-898d-6fe31005cc4c",
   "metadata": {},
   "outputs": [],
   "source": [
    "numbers = np.array([2, 3, 5, 7, 11])"
   ]
  },
  {
   "cell_type": "code",
   "execution_count": 4,
   "id": "f358ce7a-afd2-4ead-8260-acca8a85dae6",
   "metadata": {},
   "outputs": [
    {
     "data": {
      "text/plain": [
       "numpy.ndarray"
      ]
     },
     "execution_count": 4,
     "metadata": {},
     "output_type": "execute_result"
    }
   ],
   "source": [
    "type(numbers)"
   ]
  },
  {
   "cell_type": "code",
   "execution_count": 5,
   "id": "763b51f1-02d1-4c6c-9c71-ccc4bed41ffa",
   "metadata": {},
   "outputs": [
    {
     "data": {
      "text/plain": [
       "array([ 2,  3,  5,  7, 11])"
      ]
     },
     "execution_count": 5,
     "metadata": {},
     "output_type": "execute_result"
    }
   ],
   "source": [
    "numbers"
   ]
  },
  {
   "cell_type": "markdown",
   "id": "fe6be678-6b3a-42bb-bf58-9bbf35b988b3",
   "metadata": {},
   "source": [
    "<b>Multidimensional Arguments</b>"
   ]
  },
  {
   "cell_type": "code",
   "execution_count": 6,
   "id": "22a11647-f97c-4bab-b079-808e992e0776",
   "metadata": {},
   "outputs": [
    {
     "data": {
      "text/plain": [
       "array([[1, 2, 3],\n",
       "       [4, 5, 6]])"
      ]
     },
     "execution_count": 6,
     "metadata": {},
     "output_type": "execute_result"
    }
   ],
   "source": [
    "np.array([[1, 2, 3], [4, 5, 6]])"
   ]
  },
  {
   "cell_type": "markdown",
   "id": "f6916f52-9c30-4134-af02-f7d56577042c",
   "metadata": {},
   "source": [
    "<b> Self Check</b>"
   ]
  },
  {
   "cell_type": "code",
   "execution_count": 1,
   "id": "f491e8ff-b131-453e-92ac-756a9f4ec59e",
   "metadata": {},
   "outputs": [],
   "source": [
    "import numpy as np"
   ]
  },
  {
   "cell_type": "code",
   "execution_count": 2,
   "id": "a5ea3caf-2a4c-4537-84a9-038afdfe3167",
   "metadata": {},
   "outputs": [
    {
     "data": {
      "text/plain": [
       "array([ 2,  4,  6,  8, 10, 12, 14, 16, 18, 20])"
      ]
     },
     "execution_count": 2,
     "metadata": {},
     "output_type": "execute_result"
    }
   ],
   "source": [
    "np.array([x for x in range(2, 21, 2)])"
   ]
  },
  {
   "cell_type": "code",
   "execution_count": 3,
   "id": "feef9e7b-17fc-4a22-86c3-b9aed7ebb6cb",
   "metadata": {},
   "outputs": [
    {
     "data": {
      "text/plain": [
       "array([[ 2,  4,  6,  8, 10],\n",
       "       [ 1,  3,  5,  7,  9]])"
      ]
     },
     "execution_count": 3,
     "metadata": {},
     "output_type": "execute_result"
    }
   ],
   "source": [
    "np.array([[2, 4, 6, 8, 10], [1, 3, 5, 7, 9]])"
   ]
  },
  {
   "cell_type": "markdown",
   "id": "7ab60a26-82e9-4173-94b0-3b42559a0bdb",
   "metadata": {},
   "source": [
    "# 7.3 array Attributes\n",
    "* An array object provides attributes that enable you to discover information about its structure and contents"
   ]
  },
  {
   "cell_type": "code",
   "execution_count": 1,
   "id": "093bff3c-860d-4df9-a185-1b87d4c93924",
   "metadata": {},
   "outputs": [],
   "source": [
    "import numpy as np"
   ]
  },
  {
   "cell_type": "code",
   "execution_count": 2,
   "id": "5eca8b16-78be-4554-bc31-bf84d4967f78",
   "metadata": {},
   "outputs": [],
   "source": [
    "integers = np.array([[1, 2, 3], [4, 5, 6]])"
   ]
  },
  {
   "cell_type": "code",
   "execution_count": 3,
   "id": "4a89c9df-d4ec-4233-ac1b-deab38408142",
   "metadata": {},
   "outputs": [
    {
     "data": {
      "text/plain": [
       "array([[1, 2, 3],\n",
       "       [4, 5, 6]])"
      ]
     },
     "execution_count": 3,
     "metadata": {},
     "output_type": "execute_result"
    }
   ],
   "source": [
    "integers "
   ]
  },
  {
   "cell_type": "code",
   "execution_count": 4,
   "id": "00d259eb-a1cf-4a3f-9af7-53cab523ce1c",
   "metadata": {},
   "outputs": [],
   "source": [
    "floats = np.array([0.0, 0.1, 0.2, 0.3, 0.4])"
   ]
  },
  {
   "cell_type": "code",
   "execution_count": 5,
   "id": "911142b6-d3ec-43ff-9416-0583c9f72e0d",
   "metadata": {},
   "outputs": [
    {
     "data": {
      "text/plain": [
       "array([0. , 0.1, 0.2, 0.3, 0.4])"
      ]
     },
     "execution_count": 5,
     "metadata": {},
     "output_type": "execute_result"
    }
   ],
   "source": [
    "floats "
   ]
  },
  {
   "cell_type": "markdown",
   "id": "dc23f1ef-e43f-42d6-b6bc-641d8d836387",
   "metadata": {},
   "source": [
    "<b> Determining an array's Element Type </b>"
   ]
  },
  {
   "cell_type": "code",
   "execution_count": 6,
   "id": "f989b8c8-a390-4b55-a574-9f2b7935d08c",
   "metadata": {},
   "outputs": [
    {
     "data": {
      "text/plain": [
       "dtype('int32')"
      ]
     },
     "execution_count": 6,
     "metadata": {},
     "output_type": "execute_result"
    }
   ],
   "source": [
    "integers.dtype"
   ]
  },
  {
   "cell_type": "code",
   "execution_count": 7,
   "id": "bf8abce4-99ab-4ffe-89bd-9c75bccded93",
   "metadata": {},
   "outputs": [
    {
     "data": {
      "text/plain": [
       "dtype('float64')"
      ]
     },
     "execution_count": 7,
     "metadata": {},
     "output_type": "execute_result"
    }
   ],
   "source": [
    "floats.dtype"
   ]
  },
  {
   "cell_type": "markdown",
   "id": "83ca68bc-86f2-4db6-ae4a-bedb5c7bb659",
   "metadata": {},
   "source": [
    "<b>Determining an array's Dimensions</b>"
   ]
  },
  {
   "cell_type": "code",
   "execution_count": 8,
   "id": "3145be8a-ade0-449e-8563-73a17cf7018e",
   "metadata": {},
   "outputs": [
    {
     "data": {
      "text/plain": [
       "2"
      ]
     },
     "execution_count": 8,
     "metadata": {},
     "output_type": "execute_result"
    }
   ],
   "source": [
    "integers.ndim"
   ]
  },
  {
   "cell_type": "code",
   "execution_count": 9,
   "id": "d703200b-4815-4def-b1a5-639d847569f7",
   "metadata": {},
   "outputs": [
    {
     "data": {
      "text/plain": [
       "1"
      ]
     },
     "execution_count": 9,
     "metadata": {},
     "output_type": "execute_result"
    }
   ],
   "source": [
    "floats.ndim"
   ]
  },
  {
   "cell_type": "code",
   "execution_count": 10,
   "id": "d2ea6d1f-0969-4b4a-97d6-06660c69d0a7",
   "metadata": {},
   "outputs": [
    {
     "data": {
      "text/plain": [
       "(2, 3)"
      ]
     },
     "execution_count": 10,
     "metadata": {},
     "output_type": "execute_result"
    }
   ],
   "source": [
    "integers.shape "
   ]
  },
  {
   "cell_type": "code",
   "execution_count": 11,
   "id": "b465cf57-dad8-4705-b81e-be3911e1ed5e",
   "metadata": {},
   "outputs": [
    {
     "data": {
      "text/plain": [
       "(5,)"
      ]
     },
     "execution_count": 11,
     "metadata": {},
     "output_type": "execute_result"
    }
   ],
   "source": [
    "floats.shape "
   ]
  },
  {
   "cell_type": "markdown",
   "id": "e5288f75-630e-449e-985f-2e2812fd562a",
   "metadata": {},
   "source": [
    "<b> Determining an array's Number of Elements and Element Size</b>"
   ]
  },
  {
   "cell_type": "code",
   "execution_count": 12,
   "id": "496a60c6-68a4-43af-b9f8-cb19fa03dc4f",
   "metadata": {},
   "outputs": [
    {
     "data": {
      "text/plain": [
       "6"
      ]
     },
     "execution_count": 12,
     "metadata": {},
     "output_type": "execute_result"
    }
   ],
   "source": [
    "integers.size"
   ]
  },
  {
   "cell_type": "code",
   "execution_count": 13,
   "id": "7c9a1c9e-7669-4724-855f-d0132cc7d328",
   "metadata": {},
   "outputs": [
    {
     "data": {
      "text/plain": [
       "4"
      ]
     },
     "execution_count": 13,
     "metadata": {},
     "output_type": "execute_result"
    }
   ],
   "source": [
    "integers.itemsize"
   ]
  },
  {
   "cell_type": "code",
   "execution_count": 14,
   "id": "2e4e7557-354f-4c71-a8d5-4e582d1738e8",
   "metadata": {},
   "outputs": [
    {
     "data": {
      "text/plain": [
       "5"
      ]
     },
     "execution_count": 14,
     "metadata": {},
     "output_type": "execute_result"
    }
   ],
   "source": [
    "floats.size"
   ]
  },
  {
   "cell_type": "code",
   "execution_count": 15,
   "id": "baf61a0f-0b1b-4f54-9a6a-ebf8f0db930e",
   "metadata": {},
   "outputs": [
    {
     "data": {
      "text/plain": [
       "8"
      ]
     },
     "execution_count": 15,
     "metadata": {},
     "output_type": "execute_result"
    }
   ],
   "source": [
    "floats.itemsize"
   ]
  },
  {
   "cell_type": "markdown",
   "id": "ced60132-733f-4b00-acd9-66270e6675cf",
   "metadata": {},
   "source": [
    "<b> Iterating Through a Multidimensional array's Elements</b>"
   ]
  },
  {
   "cell_type": "code",
   "execution_count": 16,
   "id": "59e3482c-18cc-4932-ad4b-c9ab4b2181b1",
   "metadata": {},
   "outputs": [
    {
     "name": "stdout",
     "output_type": "stream",
     "text": [
      "1 2 3 \n",
      "4 5 6 \n"
     ]
    }
   ],
   "source": [
    "for row in integers:\n",
    "    for column in row:\n",
    "        print(column, end=' ')\n",
    "    print()\n",
    "    "
   ]
  },
  {
   "cell_type": "code",
   "execution_count": 17,
   "id": "6b42b5d4-1fb6-4098-9e5c-c3bf804c44ce",
   "metadata": {},
   "outputs": [
    {
     "name": "stdout",
     "output_type": "stream",
     "text": [
      "1 2 3 4 5 6 "
     ]
    }
   ],
   "source": [
    "# You can iterate through a multidimensional array as if it were one-dimensional by using its flat attribute:\n",
    "\n",
    "for i in integers.flat:\n",
    "    print(i, end=' ')\n",
    "    "
   ]
  },
  {
   "cell_type": "markdown",
   "id": "2570c58a-c00d-41c2-a562-c8f60460e952",
   "metadata": {},
   "source": [
    "<b>Self Check</b>"
   ]
  },
  {
   "cell_type": "code",
   "execution_count": 18,
   "id": "9b290585-3dfc-4c6b-83f5-ce467a031859",
   "metadata": {},
   "outputs": [],
   "source": [
    "import numpy as np"
   ]
  },
  {
   "cell_type": "code",
   "execution_count": 19,
   "id": "ee4afcb3-0060-4df3-bb06-e17423087df7",
   "metadata": {},
   "outputs": [],
   "source": [
    "a = np.array([[2, 4, 6, 8, 10], [1, 3, 5, 7, 9]])"
   ]
  },
  {
   "cell_type": "code",
   "execution_count": 20,
   "id": "9a65bc30-abb9-4618-b386-a37cdaf67158",
   "metadata": {},
   "outputs": [
    {
     "data": {
      "text/plain": [
       "2"
      ]
     },
     "execution_count": 20,
     "metadata": {},
     "output_type": "execute_result"
    }
   ],
   "source": [
    "a.ndim"
   ]
  },
  {
   "cell_type": "code",
   "execution_count": 21,
   "id": "9a372d3d-4a68-4a86-a3db-d5ff86523f16",
   "metadata": {},
   "outputs": [
    {
     "data": {
      "text/plain": [
       "(2, 5)"
      ]
     },
     "execution_count": 21,
     "metadata": {},
     "output_type": "execute_result"
    }
   ],
   "source": [
    "a.shape"
   ]
  },
  {
   "cell_type": "markdown",
   "id": "f0888843-389e-483d-91da-694c01880d96",
   "metadata": {},
   "source": [
    "# 7.4 Filling arrays With Specific Values\n",
    "<B> NumPy provides functions zeros, ones, and full for creating arrays containing 0s, 1s or a specified value.</B>"
   ]
  },
  {
   "cell_type": "code",
   "execution_count": 22,
   "id": "b7ed7592-d78d-46b2-a889-78382e716257",
   "metadata": {},
   "outputs": [],
   "source": [
    "import numpy  as np"
   ]
  },
  {
   "cell_type": "code",
   "execution_count": 23,
   "id": "fa4f95f2-eb96-4af2-a26e-377462f27716",
   "metadata": {},
   "outputs": [
    {
     "data": {
      "text/plain": [
       "array([0., 0., 0., 0., 0.])"
      ]
     },
     "execution_count": 23,
     "metadata": {},
     "output_type": "execute_result"
    }
   ],
   "source": [
    "np.zeros(5)"
   ]
  },
  {
   "cell_type": "code",
   "execution_count": 24,
   "id": "bbcf3035-d06b-475b-8fbe-05126604cb0f",
   "metadata": {},
   "outputs": [
    {
     "data": {
      "text/plain": [
       "array([[1, 1, 1, 1],\n",
       "       [1, 1, 1, 1]])"
      ]
     },
     "execution_count": 24,
     "metadata": {},
     "output_type": "execute_result"
    }
   ],
   "source": [
    "np.ones((2,4), dtype=int)"
   ]
  },
  {
   "cell_type": "code",
   "execution_count": 25,
   "id": "8ec7afbd-82dc-40ce-ac16-e7fccfb2cd90",
   "metadata": {},
   "outputs": [
    {
     "data": {
      "text/plain": [
       "array([[13, 13, 13, 13, 13],\n",
       "       [13, 13, 13, 13, 13],\n",
       "       [13, 13, 13, 13, 13]])"
      ]
     },
     "execution_count": 25,
     "metadata": {},
     "output_type": "execute_result"
    }
   ],
   "source": [
    "np.full((3,5), 13)"
   ]
  },
  {
   "cell_type": "markdown",
   "id": "80c76b35-c411-4b56-9f9c-6b501899cbe0",
   "metadata": {},
   "source": [
    "# 7.5 Creating arrays from Ranges"
   ]
  },
  {
   "cell_type": "markdown",
   "id": "f94602f8-8119-45f9-b360-88dd85db9faf",
   "metadata": {},
   "source": [
    "<b> Creating integer Ranges with arange</b>"
   ]
  },
  {
   "cell_type": "code",
   "execution_count": 26,
   "id": "d9cf6a8a-d679-47e4-8b10-cc993876193b",
   "metadata": {},
   "outputs": [],
   "source": [
    "import numpy as np"
   ]
  },
  {
   "cell_type": "code",
   "execution_count": 27,
   "id": "324a2ae4-36c3-434e-b203-319ca07e9818",
   "metadata": {},
   "outputs": [
    {
     "data": {
      "text/plain": [
       "array([0, 1, 2, 3, 4])"
      ]
     },
     "execution_count": 27,
     "metadata": {},
     "output_type": "execute_result"
    }
   ],
   "source": [
    "np.arange(5)"
   ]
  },
  {
   "cell_type": "code",
   "execution_count": 28,
   "id": "cbc94d96-7c23-40c6-adb7-d631e0fc1d91",
   "metadata": {},
   "outputs": [
    {
     "data": {
      "text/plain": [
       "array([5, 6, 7, 8, 9])"
      ]
     },
     "execution_count": 28,
     "metadata": {},
     "output_type": "execute_result"
    }
   ],
   "source": [
    "np.arange(5, 10)"
   ]
  },
  {
   "cell_type": "code",
   "execution_count": 29,
   "id": "2837afa8-f28d-4fce-91c9-fa38bef62d77",
   "metadata": {},
   "outputs": [
    {
     "data": {
      "text/plain": [
       "array([10,  8,  6,  4,  2])"
      ]
     },
     "execution_count": 29,
     "metadata": {},
     "output_type": "execute_result"
    }
   ],
   "source": [
    "np.arange(10, 1, -2)"
   ]
  },
  {
   "cell_type": "markdown",
   "id": "a58b6f53-5b34-4045-92c4-721f9d469a8c",
   "metadata": {},
   "source": [
    "<b> Create Floating-Point Ranges with linspace </b>"
   ]
  },
  {
   "cell_type": "code",
   "execution_count": 30,
   "id": "76bf5b82-c563-4be7-b604-f1d81d7b6aa7",
   "metadata": {},
   "outputs": [
    {
     "data": {
      "text/plain": [
       "array([0.  , 0.25, 0.5 , 0.75, 1.  ])"
      ]
     },
     "execution_count": 30,
     "metadata": {},
     "output_type": "execute_result"
    }
   ],
   "source": [
    "np.linspace(0.0, 1.0, num=5)"
   ]
  },
  {
   "cell_type": "markdown",
   "id": "2babd9dd-8f15-4051-a6ac-5d0a984d978a",
   "metadata": {},
   "source": [
    "<b> Reshaping an array </b>"
   ]
  },
  {
   "cell_type": "code",
   "execution_count": 31,
   "id": "fd2e6e77-23ba-4dcc-b6d7-5a04179823b9",
   "metadata": {},
   "outputs": [
    {
     "data": {
      "text/plain": [
       "array([[ 1,  2,  3,  4,  5],\n",
       "       [ 6,  7,  8,  9, 10],\n",
       "       [11, 12, 13, 14, 15],\n",
       "       [16, 17, 18, 19, 20]])"
      ]
     },
     "execution_count": 31,
     "metadata": {},
     "output_type": "execute_result"
    }
   ],
   "source": [
    "np.arange(1, 21).reshape(4, 5)"
   ]
  },
  {
   "cell_type": "markdown",
   "id": "efc68884-183a-48ed-9822-a8a03ae1d6e7",
   "metadata": {},
   "source": [
    "<b> Displaying Large arrays</b>"
   ]
  },
  {
   "cell_type": "code",
   "execution_count": 32,
   "id": "09e76035-cd94-4b70-b0da-8ed94452dbe8",
   "metadata": {},
   "outputs": [
    {
     "data": {
      "text/plain": [
       "array([[     1,      2,      3, ...,  24998,  24999,  25000],\n",
       "       [ 25001,  25002,  25003, ...,  49998,  49999,  50000],\n",
       "       [ 50001,  50002,  50003, ...,  74998,  74999,  75000],\n",
       "       [ 75001,  75002,  75003, ...,  99998,  99999, 100000]])"
      ]
     },
     "execution_count": 32,
     "metadata": {},
     "output_type": "execute_result"
    }
   ],
   "source": [
    "np.arange(1, 100001).reshape(4, 25000)"
   ]
  },
  {
   "cell_type": "code",
   "execution_count": 33,
   "id": "4e98f0e0-a9e1-46b6-a457-1b987157c8e6",
   "metadata": {},
   "outputs": [
    {
     "data": {
      "text/plain": [
       "array([[     1,      2,      3, ...,    998,    999,   1000],\n",
       "       [  1001,   1002,   1003, ...,   1998,   1999,   2000],\n",
       "       [  2001,   2002,   2003, ...,   2998,   2999,   3000],\n",
       "       ...,\n",
       "       [ 97001,  97002,  97003, ...,  97998,  97999,  98000],\n",
       "       [ 98001,  98002,  98003, ...,  98998,  98999,  99000],\n",
       "       [ 99001,  99002,  99003, ...,  99998,  99999, 100000]])"
      ]
     },
     "execution_count": 33,
     "metadata": {},
     "output_type": "execute_result"
    }
   ],
   "source": [
    "np.arange(1, 100001).reshape(100, 1000)"
   ]
  },
  {
   "cell_type": "markdown",
   "id": "a0b83fe9-3d31-4113-90d1-bd66b87cb790",
   "metadata": {},
   "source": [
    "<b>Self Check</b>"
   ]
  },
  {
   "cell_type": "code",
   "execution_count": 34,
   "id": "7e904fa7-74f2-4fe0-9901-1863fda2db61",
   "metadata": {},
   "outputs": [],
   "source": [
    "import numpy as np"
   ]
  },
  {
   "cell_type": "code",
   "execution_count": 35,
   "id": "98af4142-2620-43bc-a3a2-6770184a4e7e",
   "metadata": {},
   "outputs": [
    {
     "data": {
      "text/plain": [
       "array([[ 2,  4,  6,  8, 10],\n",
       "       [12, 14, 16, 18, 20],\n",
       "       [22, 24, 26, 28, 30],\n",
       "       [32, 34, 36, 38, 40]])"
      ]
     },
     "execution_count": 35,
     "metadata": {},
     "output_type": "execute_result"
    }
   ],
   "source": [
    "np.arange(2, 41, 2).reshape(4,5)"
   ]
  },
  {
   "cell_type": "markdown",
   "id": "8e6c30b0-7324-4e9a-957e-bcc0960ea456",
   "metadata": {},
   "source": [
    "# 7.6 List vs. array Performance: introducing %timeit"
   ]
  },
  {
   "cell_type": "markdown",
   "id": "53bc3e53-fbcb-44c8-bd0e-b98a85f5c823",
   "metadata": {},
   "source": [
    "<b> Timing the creation of a list containing results of 6,000,000 Die Rolls\n",
    "</b>"
   ]
  },
  {
   "cell_type": "code",
   "execution_count": 1,
   "id": "0483ede7-f38c-4dc9-80c8-747a443e4184",
   "metadata": {},
   "outputs": [],
   "source": [
    "import random"
   ]
  },
  {
   "cell_type": "code",
   "execution_count": 2,
   "id": "8d5c44a0-d8dc-4fb9-b50b-e8ccfad1927d",
   "metadata": {},
   "outputs": [
    {
     "name": "stdout",
     "output_type": "stream",
     "text": [
      "3.12 s ± 41.8 ms per loop (mean ± std. dev. of 7 runs, 1 loop each)\n"
     ]
    }
   ],
   "source": [
    "%timeit rolls_list = \\\n",
    "    [random.randrange(1, 7) for i in range(0, 6_000_000)]"
   ]
  },
  {
   "cell_type": "markdown",
   "id": "a43bb685-0141-4114-8107-44a3bd5b9016",
   "metadata": {},
   "source": [
    "<b> Timing the creation of an array containing results of 6,000,000 Die Rolls</b>"
   ]
  },
  {
   "cell_type": "code",
   "execution_count": 3,
   "id": "336eabd5-f6c0-48e5-8dfa-a5d11ade1ffe",
   "metadata": {},
   "outputs": [],
   "source": [
    "import numpy as np"
   ]
  },
  {
   "cell_type": "code",
   "execution_count": 4,
   "id": "f81fd6a5-0efc-4445-88cd-4224e9815b02",
   "metadata": {},
   "outputs": [
    {
     "name": "stdout",
     "output_type": "stream",
     "text": [
      "44.3 ms ± 113 µs per loop (mean ± std. dev. of 7 runs, 10 loops each)\n"
     ]
    }
   ],
   "source": [
    "%timeit rolls_array = np.random.randint(1, 7, 6_000_000)"
   ]
  },
  {
   "cell_type": "markdown",
   "id": "71b1a553-0d0e-44c9-bce8-397a5d56a972",
   "metadata": {},
   "source": [
    "<b> 60,000,000 and 600,000,000 Die Rolls</b>"
   ]
  },
  {
   "cell_type": "code",
   "execution_count": 5,
   "id": "49f66115-9ed2-4e07-b70c-ca3d06042383",
   "metadata": {},
   "outputs": [
    {
     "name": "stdout",
     "output_type": "stream",
     "text": [
      "453 ms ± 16.9 ms per loop (mean ± std. dev. of 7 runs, 1 loop each)\n"
     ]
    }
   ],
   "source": [
    "%timeit rolls_array = np.random.randint(1, 7, 60_000_000)"
   ]
  },
  {
   "cell_type": "code",
   "execution_count": 6,
   "id": "28bdb5f2-58af-412d-863f-888a8386c37f",
   "metadata": {},
   "outputs": [
    {
     "name": "stdout",
     "output_type": "stream",
     "text": [
      "4.47 s ± 105 ms per loop (mean ± std. dev. of 7 runs, 1 loop each)\n"
     ]
    }
   ],
   "source": [
    "%timeit rolls_array = np.random.randint(1, 7, 600_000_000)"
   ]
  },
  {
   "cell_type": "markdown",
   "id": "8a088a7b-9b49-4ab5-85a9-90c9d6639f19",
   "metadata": {},
   "source": [
    "<b> Customizing the %timeit Iterations</b>"
   ]
  },
  {
   "cell_type": "code",
   "execution_count": 7,
   "id": "52a3ac06-db26-41bd-8e06-d19aece13fa4",
   "metadata": {},
   "outputs": [
    {
     "name": "stdout",
     "output_type": "stream",
     "text": [
      "47.8 ms ± 1.83 ms per loop (mean ± std. dev. of 2 runs, 3 loops each)\n"
     ]
    }
   ],
   "source": [
    "%timeit -n3 -r2 rolls_array = np.random.randint(1, 7, 6_000_000)"
   ]
  },
  {
   "cell_type": "markdown",
   "id": "cece369d-ca5f-4654-85c5-e6cc98782d73",
   "metadata": {},
   "source": [
    "<b> Self Check </b>"
   ]
  },
  {
   "cell_type": "code",
   "execution_count": 8,
   "id": "272ec640-7db7-454d-b275-046112abd145",
   "metadata": {},
   "outputs": [],
   "source": [
    "import numpy as np"
   ]
  },
  {
   "cell_type": "code",
   "execution_count": 9,
   "id": "5f7f48ca-bbb3-40b0-99be-e675536af9d0",
   "metadata": {},
   "outputs": [
    {
     "name": "stdout",
     "output_type": "stream",
     "text": [
      "54.6 ms ± 767 µs per loop (mean ± std. dev. of 7 runs, 10 loops each)\n"
     ]
    }
   ],
   "source": [
    "%timeit sum([x for x in range(1_000_000)])"
   ]
  },
  {
   "cell_type": "code",
   "execution_count": 10,
   "id": "fa6b156f-b53b-4935-8803-32fcd419ffbe",
   "metadata": {},
   "outputs": [
    {
     "name": "stdout",
     "output_type": "stream",
     "text": [
      "12.8 ms ± 30.9 µs per loop (mean ± std. dev. of 7 runs, 100 loops each)\n"
     ]
    }
   ],
   "source": [
    "%timeit np.arange(10_000_000).sum()"
   ]
  },
  {
   "cell_type": "markdown",
   "id": "0127d47d-cc08-4c20-95d2-92b66fe5944a",
   "metadata": {},
   "source": [
    "# 7.7 array Operators"
   ]
  },
  {
   "cell_type": "markdown",
   "id": "ed81ae41-495a-4087-853c-3c3dc5f5b5a1",
   "metadata": {},
   "source": [
    "<b> Arithmetic Operations With arrays and Individual Numeric Values"
   ]
  },
  {
   "cell_type": "code",
   "execution_count": 1,
   "id": "a7208f0e-af37-4d81-a138-85481d8a35ff",
   "metadata": {},
   "outputs": [],
   "source": [
    "import numpy as np"
   ]
  },
  {
   "cell_type": "code",
   "execution_count": 2,
   "id": "2bff03d7-1046-4dbb-af94-945b6be3a3f3",
   "metadata": {},
   "outputs": [],
   "source": [
    "numbers = np.arange(1,6)"
   ]
  },
  {
   "cell_type": "code",
   "execution_count": 3,
   "id": "40081225-1efc-464a-be11-087e512b4a8f",
   "metadata": {},
   "outputs": [
    {
     "data": {
      "text/plain": [
       "array([1, 2, 3, 4, 5])"
      ]
     },
     "execution_count": 3,
     "metadata": {},
     "output_type": "execute_result"
    }
   ],
   "source": [
    "numbers "
   ]
  },
  {
   "cell_type": "code",
   "execution_count": 4,
   "id": "6c90ecbf-6f26-413e-abe0-c6a527e7d838",
   "metadata": {},
   "outputs": [
    {
     "data": {
      "text/plain": [
       "array([ 2,  4,  6,  8, 10])"
      ]
     },
     "execution_count": 4,
     "metadata": {},
     "output_type": "execute_result"
    }
   ],
   "source": [
    "numbers * 2"
   ]
  },
  {
   "cell_type": "code",
   "execution_count": 5,
   "id": "1377106f-9383-46f1-85f4-d91dc719a513",
   "metadata": {},
   "outputs": [
    {
     "data": {
      "text/plain": [
       "array([  1,   8,  27,  64, 125], dtype=int32)"
      ]
     },
     "execution_count": 5,
     "metadata": {},
     "output_type": "execute_result"
    }
   ],
   "source": [
    "numbers ** 3"
   ]
  },
  {
   "cell_type": "code",
   "execution_count": 6,
   "id": "3a890b42-e6b7-4d64-afd2-be611da741fd",
   "metadata": {},
   "outputs": [
    {
     "data": {
      "text/plain": [
       "array([1, 2, 3, 4, 5])"
      ]
     },
     "execution_count": 6,
     "metadata": {},
     "output_type": "execute_result"
    }
   ],
   "source": [
    "numbers  # numbers is unchanged by the arithmetic operators"
   ]
  },
  {
   "cell_type": "code",
   "execution_count": 7,
   "id": "7a15f337-1ceb-4b70-970d-00751a28872d",
   "metadata": {},
   "outputs": [],
   "source": [
    "numbers += 10"
   ]
  },
  {
   "cell_type": "code",
   "execution_count": 8,
   "id": "3d764271-72d0-4ae5-9d0d-9d565ee61313",
   "metadata": {},
   "outputs": [
    {
     "data": {
      "text/plain": [
       "array([11, 12, 13, 14, 15])"
      ]
     },
     "execution_count": 8,
     "metadata": {},
     "output_type": "execute_result"
    }
   ],
   "source": [
    "numbers "
   ]
  },
  {
   "cell_type": "markdown",
   "id": "a6dbfefe-6845-48fd-a315-609a9e73450a",
   "metadata": {},
   "source": [
    "<b>Broadcasting</b>"
   ]
  },
  {
   "cell_type": "code",
   "execution_count": 9,
   "id": "490d95b6-28d2-4589-b4ce-0b47c68643ca",
   "metadata": {},
   "outputs": [
    {
     "data": {
      "text/plain": [
       "array([22, 24, 26, 28, 30])"
      ]
     },
     "execution_count": 9,
     "metadata": {},
     "output_type": "execute_result"
    }
   ],
   "source": [
    "numbers * [2, 2, 2, 2, 2]"
   ]
  },
  {
   "cell_type": "markdown",
   "id": "9fa5f8b5-4b12-4e89-aab9-d16b404a2b53",
   "metadata": {},
   "source": [
    "<b> Arithmetic Operations Between arrays</b>"
   ]
  },
  {
   "cell_type": "code",
   "execution_count": 10,
   "id": "30d4f66e-8d20-4a8e-9b37-d1c8ade5f899",
   "metadata": {},
   "outputs": [],
   "source": [
    "numbers2 = np.linspace(1.1, 5.5, 5)"
   ]
  },
  {
   "cell_type": "code",
   "execution_count": 11,
   "id": "957c8939-fd38-4d55-a884-de87e7f69427",
   "metadata": {},
   "outputs": [
    {
     "data": {
      "text/plain": [
       "array([1.1, 2.2, 3.3, 4.4, 5.5])"
      ]
     },
     "execution_count": 11,
     "metadata": {},
     "output_type": "execute_result"
    }
   ],
   "source": [
    "numbers2 "
   ]
  },
  {
   "cell_type": "code",
   "execution_count": 12,
   "id": "937e8b59-1449-48c0-b0bf-f0fa07d6a63b",
   "metadata": {},
   "outputs": [
    {
     "data": {
      "text/plain": [
       "array([12.1, 26.4, 42.9, 61.6, 82.5])"
      ]
     },
     "execution_count": 12,
     "metadata": {},
     "output_type": "execute_result"
    }
   ],
   "source": [
    "numbers * numbers2"
   ]
  },
  {
   "cell_type": "markdown",
   "id": "20f0387e-738a-4d24-bb42-472f0bfbdfef",
   "metadata": {},
   "source": [
    "<B> Comparing arrays</B>"
   ]
  },
  {
   "cell_type": "code",
   "execution_count": 13,
   "id": "2d8718ed-e5bc-445f-b78a-53dd6b313c68",
   "metadata": {},
   "outputs": [
    {
     "data": {
      "text/plain": [
       "array([11, 12, 13, 14, 15])"
      ]
     },
     "execution_count": 13,
     "metadata": {},
     "output_type": "execute_result"
    }
   ],
   "source": [
    "numbers"
   ]
  },
  {
   "cell_type": "code",
   "execution_count": 14,
   "id": "e764f89f-5710-474a-b259-1fa95152c032",
   "metadata": {},
   "outputs": [
    {
     "data": {
      "text/plain": [
       "array([False, False,  True,  True,  True])"
      ]
     },
     "execution_count": 14,
     "metadata": {},
     "output_type": "execute_result"
    }
   ],
   "source": [
    "numbers>= 13"
   ]
  },
  {
   "cell_type": "code",
   "execution_count": 15,
   "id": "e53bcf50-4250-4a36-ac39-faf3fa31235d",
   "metadata": {},
   "outputs": [
    {
     "data": {
      "text/plain": [
       "array([1.1, 2.2, 3.3, 4.4, 5.5])"
      ]
     },
     "execution_count": 15,
     "metadata": {},
     "output_type": "execute_result"
    }
   ],
   "source": [
    "numbers2"
   ]
  },
  {
   "cell_type": "code",
   "execution_count": 16,
   "id": "f8daf551-8346-4bb3-a403-4cad5469a778",
   "metadata": {},
   "outputs": [
    {
     "data": {
      "text/plain": [
       "array([ True,  True,  True,  True,  True])"
      ]
     },
     "execution_count": 16,
     "metadata": {},
     "output_type": "execute_result"
    }
   ],
   "source": [
    "numbers2 < numbers"
   ]
  },
  {
   "cell_type": "code",
   "execution_count": 17,
   "id": "b087c157-cdf8-4f61-b7ee-f632d616b1a2",
   "metadata": {},
   "outputs": [
    {
     "data": {
      "text/plain": [
       "array([False, False, False, False, False])"
      ]
     },
     "execution_count": 17,
     "metadata": {},
     "output_type": "execute_result"
    }
   ],
   "source": [
    "numbers == numbers2"
   ]
  },
  {
   "cell_type": "code",
   "execution_count": 18,
   "id": "5677c713-aaca-4788-8b6d-4e66911d78f1",
   "metadata": {},
   "outputs": [
    {
     "data": {
      "text/plain": [
       "array([ True,  True,  True,  True,  True])"
      ]
     },
     "execution_count": 18,
     "metadata": {},
     "output_type": "execute_result"
    }
   ],
   "source": [
    "numbers == numbers"
   ]
  },
  {
   "cell_type": "markdown",
   "id": "e29e4e9c-f90b-412e-a13d-b9e0c61a5a5a",
   "metadata": {},
   "source": [
    "<b> Self Check </b>"
   ]
  },
  {
   "cell_type": "code",
   "execution_count": 19,
   "id": "dafe79b0-5ea2-44c1-b601-1c1a642c316e",
   "metadata": {},
   "outputs": [],
   "source": [
    "import numpy as np"
   ]
  },
  {
   "cell_type": "code",
   "execution_count": 20,
   "id": "6b94c597-6273-4a8b-9053-5571b596b1ea",
   "metadata": {},
   "outputs": [
    {
     "data": {
      "text/plain": [
       "array([ 1,  4,  9, 16, 25])"
      ]
     },
     "execution_count": 20,
     "metadata": {},
     "output_type": "execute_result"
    }
   ],
   "source": [
    "np.arange(1, 6) ** 2"
   ]
  },
  {
   "cell_type": "markdown",
   "id": "88ac35a4-82e6-4e66-970f-f14f01a44198",
   "metadata": {},
   "source": [
    "# 7.8 Numpy Calculation Methods"
   ]
  },
  {
   "cell_type": "code",
   "execution_count": 21,
   "id": "8b6ecf64-d53b-48c7-9013-c8e1623f1ab7",
   "metadata": {},
   "outputs": [],
   "source": [
    "import numpy as np"
   ]
  },
  {
   "cell_type": "code",
   "execution_count": 22,
   "id": "b56cbebe-cc9f-44fc-874b-06af6a65b951",
   "metadata": {},
   "outputs": [],
   "source": [
    "grades = np.array([[87, 96, 70], [100, 87, 90],\n",
    "                   [94, 77, 90], [100, 81, 82]])"
   ]
  },
  {
   "cell_type": "code",
   "execution_count": 23,
   "id": "cc2ab947-b3ac-4312-9146-2c3213aca2db",
   "metadata": {},
   "outputs": [
    {
     "data": {
      "text/plain": [
       "array([[ 87,  96,  70],\n",
       "       [100,  87,  90],\n",
       "       [ 94,  77,  90],\n",
       "       [100,  81,  82]])"
      ]
     },
     "execution_count": 23,
     "metadata": {},
     "output_type": "execute_result"
    }
   ],
   "source": [
    "grades"
   ]
  },
  {
   "cell_type": "code",
   "execution_count": 24,
   "id": "11aa5d9c-3779-41f2-9831-4d927cec6e5b",
   "metadata": {},
   "outputs": [
    {
     "data": {
      "text/plain": [
       "1054"
      ]
     },
     "execution_count": 24,
     "metadata": {},
     "output_type": "execute_result"
    }
   ],
   "source": [
    "grades.sum()"
   ]
  },
  {
   "cell_type": "code",
   "execution_count": 25,
   "id": "64aefef1-292e-4894-b4bf-f603695636fa",
   "metadata": {},
   "outputs": [
    {
     "data": {
      "text/plain": [
       "70"
      ]
     },
     "execution_count": 25,
     "metadata": {},
     "output_type": "execute_result"
    }
   ],
   "source": [
    "grades.min()"
   ]
  },
  {
   "cell_type": "code",
   "execution_count": 26,
   "id": "325c3d18-8d79-482d-88eb-b2c3ba962e19",
   "metadata": {},
   "outputs": [
    {
     "data": {
      "text/plain": [
       "100"
      ]
     },
     "execution_count": 26,
     "metadata": {},
     "output_type": "execute_result"
    }
   ],
   "source": [
    "grades.max()"
   ]
  },
  {
   "cell_type": "code",
   "execution_count": 27,
   "id": "cacb56fd-c997-4b1e-afd8-21ddacfed757",
   "metadata": {},
   "outputs": [
    {
     "data": {
      "text/plain": [
       "87.83333333333333"
      ]
     },
     "execution_count": 27,
     "metadata": {},
     "output_type": "execute_result"
    }
   ],
   "source": [
    "grades.mean()"
   ]
  },
  {
   "cell_type": "code",
   "execution_count": 28,
   "id": "4de84ec2-31c4-4eb5-80aa-5f53f8195dc9",
   "metadata": {},
   "outputs": [
    {
     "data": {
      "text/plain": [
       "8.792357792739987"
      ]
     },
     "execution_count": 28,
     "metadata": {},
     "output_type": "execute_result"
    }
   ],
   "source": [
    "grades.std()"
   ]
  },
  {
   "cell_type": "code",
   "execution_count": 29,
   "id": "ef61cbd1-71b8-41c7-a60e-0f5617658949",
   "metadata": {},
   "outputs": [
    {
     "data": {
      "text/plain": [
       "77.30555555555556"
      ]
     },
     "execution_count": 29,
     "metadata": {},
     "output_type": "execute_result"
    }
   ],
   "source": [
    "grades.var()"
   ]
  },
  {
   "cell_type": "markdown",
   "id": "96fc7bfc-0220-49e3-9daa-6dfe6aaec39f",
   "metadata": {},
   "source": [
    "<b> Calculations by Row or Column"
   ]
  },
  {
   "cell_type": "code",
   "execution_count": 30,
   "id": "ee511d34-dea7-4950-8b65-96ed1909949b",
   "metadata": {},
   "outputs": [
    {
     "data": {
      "text/plain": [
       "array([95.25, 85.25, 83.  ])"
      ]
     },
     "execution_count": 30,
     "metadata": {},
     "output_type": "execute_result"
    }
   ],
   "source": [
    "grades.mean(axis=0)"
   ]
  },
  {
   "cell_type": "code",
   "execution_count": 31,
   "id": "22704bbb-284a-493d-b544-34ed5c8f75d6",
   "metadata": {},
   "outputs": [
    {
     "data": {
      "text/plain": [
       "array([84.33333333, 92.33333333, 87.        , 87.66666667])"
      ]
     },
     "execution_count": 31,
     "metadata": {},
     "output_type": "execute_result"
    }
   ],
   "source": [
    "grades.mean(axis=1)"
   ]
  },
  {
   "cell_type": "markdown",
   "id": "98119842-2c49-4ff2-9a12-1d10c040348c",
   "metadata": {},
   "source": [
    "<b> Self Check </b>"
   ]
  },
  {
   "cell_type": "code",
   "execution_count": 32,
   "id": "5f1d4194-9a66-45cb-a229-ecbc2f8770cd",
   "metadata": {},
   "outputs": [],
   "source": [
    "import numpy as np"
   ]
  },
  {
   "cell_type": "code",
   "execution_count": 33,
   "id": "1c46c6c5-18b9-4109-be06-663033589991",
   "metadata": {},
   "outputs": [],
   "source": [
    "grades = np.random.randint(60, 101, 12).reshape(3, 4)"
   ]
  },
  {
   "cell_type": "code",
   "execution_count": 34,
   "id": "75f7cb7a-ebe3-48d4-bc51-3c0de03555f2",
   "metadata": {},
   "outputs": [
    {
     "data": {
      "text/plain": [
       "array([[ 84,  85,  79,  72],\n",
       "       [ 87,  97,  95,  76],\n",
       "       [ 92, 100,  80,  72]])"
      ]
     },
     "execution_count": 34,
     "metadata": {},
     "output_type": "execute_result"
    }
   ],
   "source": [
    "grades "
   ]
  },
  {
   "cell_type": "code",
   "execution_count": 35,
   "id": "c52676b9-b700-430b-b4c8-0c6bfcb02a4d",
   "metadata": {},
   "outputs": [
    {
     "data": {
      "text/plain": [
       "84.91666666666667"
      ]
     },
     "execution_count": 35,
     "metadata": {},
     "output_type": "execute_result"
    }
   ],
   "source": [
    "grades.mean()"
   ]
  },
  {
   "cell_type": "code",
   "execution_count": 36,
   "id": "df35d1c2-53cd-4a99-b0c7-55a0a31e7259",
   "metadata": {},
   "outputs": [
    {
     "data": {
      "text/plain": [
       "array([87.66666667, 94.        , 84.66666667, 73.33333333])"
      ]
     },
     "execution_count": 36,
     "metadata": {},
     "output_type": "execute_result"
    }
   ],
   "source": [
    "grades.mean(axis=0)"
   ]
  },
  {
   "cell_type": "code",
   "execution_count": 37,
   "id": "4a9d3860-1bea-47e4-9c24-d79a101691f6",
   "metadata": {},
   "outputs": [
    {
     "data": {
      "text/plain": [
       "array([80.  , 88.75, 86.  ])"
      ]
     },
     "execution_count": 37,
     "metadata": {},
     "output_type": "execute_result"
    }
   ],
   "source": [
    "grades.mean(axis=1)"
   ]
  },
  {
   "cell_type": "markdown",
   "id": "4744d2e6-e1cd-4097-8aa7-b46ed08925f3",
   "metadata": {},
   "source": [
    "# 7.9 Universal Functions"
   ]
  },
  {
   "cell_type": "code",
   "execution_count": 38,
   "id": "78d09562-044b-4f5e-b626-b621e0fb6259",
   "metadata": {},
   "outputs": [],
   "source": [
    "import numpy as np"
   ]
  },
  {
   "cell_type": "code",
   "execution_count": 39,
   "id": "d5fc0865-e4ec-4233-82be-a7b755f28191",
   "metadata": {},
   "outputs": [],
   "source": [
    "numbers = np.array([1, 4, 9, 16, 25, 36])"
   ]
  },
  {
   "cell_type": "code",
   "execution_count": 40,
   "id": "3b9d8ac3-2cdc-4f00-a828-aa9479bd07b5",
   "metadata": {},
   "outputs": [
    {
     "data": {
      "text/plain": [
       "array([1., 2., 3., 4., 5., 6.])"
      ]
     },
     "execution_count": 40,
     "metadata": {},
     "output_type": "execute_result"
    }
   ],
   "source": [
    "np.sqrt(numbers)"
   ]
  },
  {
   "cell_type": "code",
   "execution_count": 41,
   "id": "3b6d01c6-e2f0-446d-9355-1e9b303a89ff",
   "metadata": {},
   "outputs": [],
   "source": [
    "numbers2 = np.arange(1, 7) * 10"
   ]
  },
  {
   "cell_type": "code",
   "execution_count": 42,
   "id": "1619508d-f33e-4031-84d3-22685d6fe567",
   "metadata": {},
   "outputs": [
    {
     "data": {
      "text/plain": [
       "array([10, 20, 30, 40, 50, 60])"
      ]
     },
     "execution_count": 42,
     "metadata": {},
     "output_type": "execute_result"
    }
   ],
   "source": [
    "numbers2"
   ]
  },
  {
   "cell_type": "code",
   "execution_count": 43,
   "id": "d0ea3217-828d-4ae1-839a-aef69f54a21b",
   "metadata": {},
   "outputs": [
    {
     "data": {
      "text/plain": [
       "array([11, 24, 39, 56, 75, 96])"
      ]
     },
     "execution_count": 43,
     "metadata": {},
     "output_type": "execute_result"
    }
   ],
   "source": [
    "np.add(numbers, numbers2)"
   ]
  },
  {
   "cell_type": "markdown",
   "id": "2d4ce11e-90ab-48e6-b423-df2a307d3a3c",
   "metadata": {},
   "source": [
    "<b> Broadcasting With Universal Functions </b>"
   ]
  },
  {
   "cell_type": "code",
   "execution_count": 44,
   "id": "2c395e31-771f-40d3-988c-878f9e68d491",
   "metadata": {},
   "outputs": [
    {
     "data": {
      "text/plain": [
       "array([ 50, 100, 150, 200, 250, 300])"
      ]
     },
     "execution_count": 44,
     "metadata": {},
     "output_type": "execute_result"
    }
   ],
   "source": [
    "np.multiply(numbers2, 5)"
   ]
  },
  {
   "cell_type": "code",
   "execution_count": 45,
   "id": "a784265c-f5a1-4886-981e-55f23843c4a9",
   "metadata": {},
   "outputs": [],
   "source": [
    "numbers3 = numbers2.reshape(2, 3)"
   ]
  },
  {
   "cell_type": "code",
   "execution_count": 46,
   "id": "e23a0ec5-a7a7-4ab7-b970-3b5604d104f8",
   "metadata": {},
   "outputs": [
    {
     "data": {
      "text/plain": [
       "array([[10, 20, 30],\n",
       "       [40, 50, 60]])"
      ]
     },
     "execution_count": 46,
     "metadata": {},
     "output_type": "execute_result"
    }
   ],
   "source": [
    "numbers3 "
   ]
  },
  {
   "cell_type": "code",
   "execution_count": 47,
   "id": "68567fa9-9245-4b59-b8bc-66226ea092dc",
   "metadata": {},
   "outputs": [],
   "source": [
    "numbers4 = np.array([2, 4, 6])"
   ]
  },
  {
   "cell_type": "code",
   "execution_count": 48,
   "id": "b738984d-e8f1-41c3-bbfd-447bf9f2464c",
   "metadata": {},
   "outputs": [
    {
     "data": {
      "text/plain": [
       "array([[ 20,  80, 180],\n",
       "       [ 80, 200, 360]])"
      ]
     },
     "execution_count": 48,
     "metadata": {},
     "output_type": "execute_result"
    }
   ],
   "source": [
    "np.multiply(numbers3, numbers4)"
   ]
  },
  {
   "cell_type": "markdown",
   "id": "c570cad9-b371-4258-8567-5e85b83eee2f",
   "metadata": {},
   "source": [
    "<b> Self Check</b>"
   ]
  },
  {
   "cell_type": "code",
   "execution_count": 49,
   "id": "7433f121-59d3-4fd3-a3c8-bff4f524c331",
   "metadata": {},
   "outputs": [],
   "source": [
    "import numpy as np"
   ]
  },
  {
   "cell_type": "code",
   "execution_count": 50,
   "id": "65a983b4-50e6-440e-a72a-bdaa1918e61a",
   "metadata": {},
   "outputs": [],
   "source": [
    "numbers = np.arange(1, 6)"
   ]
  },
  {
   "cell_type": "code",
   "execution_count": 51,
   "id": "1f9a038b-f265-4be9-827e-f6dfeb2b3a72",
   "metadata": {},
   "outputs": [
    {
     "data": {
      "text/plain": [
       "array([  1,   8,  27,  64, 125], dtype=int32)"
      ]
     },
     "execution_count": 51,
     "metadata": {},
     "output_type": "execute_result"
    }
   ],
   "source": [
    "np.power(numbers, 3)"
   ]
  },
  {
   "cell_type": "markdown",
   "id": "1112e3a2-fb71-442b-9382-ef680af865d5",
   "metadata": {},
   "source": [
    "# 7.10 Indexing and Slicing"
   ]
  },
  {
   "cell_type": "markdown",
   "id": "211610fc-f3be-446f-8c2a-e73c3f347208",
   "metadata": {},
   "source": [
    "<b>  Indexing with Two-Dimensional arrays </b>"
   ]
  },
  {
   "cell_type": "code",
   "execution_count": 52,
   "id": "9ceeae5a-ab82-4d3d-9c4d-5f1afa47db70",
   "metadata": {},
   "outputs": [],
   "source": [
    "import numpy as np"
   ]
  },
  {
   "cell_type": "code",
   "execution_count": 53,
   "id": "428bdc03-6285-4bc7-8688-fdc16da6a74c",
   "metadata": {},
   "outputs": [],
   "source": [
    "grades = np.array([[87, 96, 70], [100, 87, 90],\n",
    "                   [94, 77, 90], [100, 81, 82]])"
   ]
  },
  {
   "cell_type": "code",
   "execution_count": 54,
   "id": "816964a0-dc71-4e46-aca9-a090d0fa7fb7",
   "metadata": {},
   "outputs": [
    {
     "data": {
      "text/plain": [
       "array([[ 87,  96,  70],\n",
       "       [100,  87,  90],\n",
       "       [ 94,  77,  90],\n",
       "       [100,  81,  82]])"
      ]
     },
     "execution_count": 54,
     "metadata": {},
     "output_type": "execute_result"
    }
   ],
   "source": [
    "grades "
   ]
  },
  {
   "cell_type": "code",
   "execution_count": 55,
   "id": "dae4534c-4001-44cd-9833-b18c4173680b",
   "metadata": {},
   "outputs": [
    {
     "data": {
      "text/plain": [
       "96"
      ]
     },
     "execution_count": 55,
     "metadata": {},
     "output_type": "execute_result"
    }
   ],
   "source": [
    "grades[0, 1] # row 0, column 1"
   ]
  },
  {
   "cell_type": "markdown",
   "id": "514795fd-11dd-4b56-97a1-393a2fd8f221",
   "metadata": {},
   "source": [
    "<b> selecting a subset of a Two-Dimensional array's Rows </b>"
   ]
  },
  {
   "cell_type": "code",
   "execution_count": 56,
   "id": "b1ea17ca-4793-4869-b3cb-1e7530b40deb",
   "metadata": {},
   "outputs": [
    {
     "data": {
      "text/plain": [
       "array([100,  87,  90])"
      ]
     },
     "execution_count": 56,
     "metadata": {},
     "output_type": "execute_result"
    }
   ],
   "source": [
    "grades[1]"
   ]
  },
  {
   "cell_type": "code",
   "execution_count": 57,
   "id": "7b02bd2f-988e-4cb0-9b6a-c1c7256142b9",
   "metadata": {},
   "outputs": [
    {
     "data": {
      "text/plain": [
       "array([[ 87,  96,  70],\n",
       "       [100,  87,  90]])"
      ]
     },
     "execution_count": 57,
     "metadata": {},
     "output_type": "execute_result"
    }
   ],
   "source": [
    "grades[0:2]"
   ]
  },
  {
   "cell_type": "code",
   "execution_count": 58,
   "id": "3c61f597-d3da-47e2-acdc-40c7b6023363",
   "metadata": {},
   "outputs": [
    {
     "data": {
      "text/plain": [
       "array([[100,  87,  90],\n",
       "       [100,  81,  82]])"
      ]
     },
     "execution_count": 58,
     "metadata": {},
     "output_type": "execute_result"
    }
   ],
   "source": [
    "grades[[1, 3]]"
   ]
  },
  {
   "cell_type": "markdown",
   "id": "b3003ac4-0030-4c71-9c56-3a164bfa7563",
   "metadata": {},
   "source": [
    "<b> selecting a Subset of a Two-Dimensional array's Columns </b>"
   ]
  },
  {
   "cell_type": "code",
   "execution_count": 59,
   "id": "c22033e5-2569-4eba-95f5-2b5d5ddf7025",
   "metadata": {},
   "outputs": [
    {
     "data": {
      "text/plain": [
       "array([ 87, 100,  94, 100])"
      ]
     },
     "execution_count": 59,
     "metadata": {},
     "output_type": "execute_result"
    }
   ],
   "source": [
    "grades[:, 0]"
   ]
  },
  {
   "cell_type": "code",
   "execution_count": 60,
   "id": "dd2a0e16-72ed-4ee6-8864-1803160f4e61",
   "metadata": {},
   "outputs": [
    {
     "data": {
      "text/plain": [
       "array([[96, 70],\n",
       "       [87, 90],\n",
       "       [77, 90],\n",
       "       [81, 82]])"
      ]
     },
     "execution_count": 60,
     "metadata": {},
     "output_type": "execute_result"
    }
   ],
   "source": [
    "grades[:, 1:3]"
   ]
  },
  {
   "cell_type": "code",
   "execution_count": 61,
   "id": "8475fc45-ce36-4404-bad2-1afaaaa3045a",
   "metadata": {},
   "outputs": [
    {
     "data": {
      "text/plain": [
       "array([[ 87,  70],\n",
       "       [100,  90],\n",
       "       [ 94,  90],\n",
       "       [100,  82]])"
      ]
     },
     "execution_count": 61,
     "metadata": {},
     "output_type": "execute_result"
    }
   ],
   "source": [
    "grades[:, [0, 2]]"
   ]
  },
  {
   "cell_type": "markdown",
   "id": "2df85613-ca33-4c29-a01c-b2f0ad16020c",
   "metadata": {},
   "source": [
    "<b> Self Check </b>"
   ]
  },
  {
   "cell_type": "code",
   "execution_count": 62,
   "id": "930e205a-2166-4bc8-b454-a4a7980bdc73",
   "metadata": {},
   "outputs": [],
   "source": [
    "import numpy as np "
   ]
  },
  {
   "cell_type": "code",
   "execution_count": 63,
   "id": "a399ad2b-e77a-4e08-bb32-2a130835c911",
   "metadata": {},
   "outputs": [],
   "source": [
    "a = np.arange(1, 16).reshape(3, 5)"
   ]
  },
  {
   "cell_type": "code",
   "execution_count": 64,
   "id": "e2d7ece7-a898-4e07-851d-18716da465f7",
   "metadata": {},
   "outputs": [
    {
     "data": {
      "text/plain": [
       "array([[ 1,  2,  3,  4,  5],\n",
       "       [ 6,  7,  8,  9, 10],\n",
       "       [11, 12, 13, 14, 15]])"
      ]
     },
     "execution_count": 64,
     "metadata": {},
     "output_type": "execute_result"
    }
   ],
   "source": [
    "a"
   ]
  },
  {
   "cell_type": "code",
   "execution_count": 65,
   "id": "b48a5fbb-dad8-4791-9524-69e0c631d7df",
   "metadata": {},
   "outputs": [
    {
     "data": {
      "text/plain": [
       "array([ 6,  7,  8,  9, 10])"
      ]
     },
     "execution_count": 65,
     "metadata": {},
     "output_type": "execute_result"
    }
   ],
   "source": [
    "a[1]"
   ]
  },
  {
   "cell_type": "code",
   "execution_count": 66,
   "id": "8cc5a95f-7112-448e-8f77-4424d987fff5",
   "metadata": {},
   "outputs": [
    {
     "data": {
      "text/plain": [
       "array([[ 1,  2,  3,  4,  5],\n",
       "       [11, 12, 13, 14, 15]])"
      ]
     },
     "execution_count": 66,
     "metadata": {},
     "output_type": "execute_result"
    }
   ],
   "source": [
    "a[[0, 2]]"
   ]
  },
  {
   "cell_type": "code",
   "execution_count": 67,
   "id": "c67f1b7e-bce0-44ed-b9b6-6beb4a8e208c",
   "metadata": {},
   "outputs": [
    {
     "data": {
      "text/plain": [
       "array([[ 2,  3,  4],\n",
       "       [ 7,  8,  9],\n",
       "       [12, 13, 14]])"
      ]
     },
     "execution_count": 67,
     "metadata": {},
     "output_type": "execute_result"
    }
   ],
   "source": [
    "a[:, 1:4]"
   ]
  },
  {
   "cell_type": "markdown",
   "id": "d6059d46-b1e8-4179-b8a7-e4086aba4dad",
   "metadata": {},
   "source": [
    "# 7.11 Views: Shallow Copies"
   ]
  },
  {
   "cell_type": "code",
   "execution_count": 1,
   "id": "a42b99b4-3291-4484-b3a8-39891c78abef",
   "metadata": {},
   "outputs": [],
   "source": [
    "import numpy as np"
   ]
  },
  {
   "cell_type": "code",
   "execution_count": 2,
   "id": "516271eb-84bd-4d0b-a6a8-7ba81dde7fa7",
   "metadata": {},
   "outputs": [
    {
     "data": {
      "text/plain": [
       "array([1, 2, 3, 4, 5])"
      ]
     },
     "execution_count": 2,
     "metadata": {},
     "output_type": "execute_result"
    }
   ],
   "source": [
    "numbers = np.arange(1,6)\n",
    "numbers"
   ]
  },
  {
   "cell_type": "code",
   "execution_count": 3,
   "id": "554260c0-e24d-4f25-8b42-fa90accd6c11",
   "metadata": {},
   "outputs": [],
   "source": [
    "numbers2 = numbers.view()"
   ]
  },
  {
   "cell_type": "code",
   "execution_count": 4,
   "id": "726e844b-27b2-428f-a41d-bd07fe3cd4a9",
   "metadata": {},
   "outputs": [
    {
     "data": {
      "text/plain": [
       "array([1, 2, 3, 4, 5])"
      ]
     },
     "execution_count": 4,
     "metadata": {},
     "output_type": "execute_result"
    }
   ],
   "source": [
    "numbers2"
   ]
  },
  {
   "cell_type": "code",
   "execution_count": 5,
   "id": "eb670697-cdb3-40b5-9601-70dbab9afa66",
   "metadata": {},
   "outputs": [
    {
     "data": {
      "text/plain": [
       "2949207736752"
      ]
     },
     "execution_count": 5,
     "metadata": {},
     "output_type": "execute_result"
    }
   ],
   "source": [
    "id(numbers)"
   ]
  },
  {
   "cell_type": "code",
   "execution_count": 6,
   "id": "283bf232-ea63-4515-a39d-09ce48a2e0a1",
   "metadata": {},
   "outputs": [
    {
     "data": {
      "text/plain": [
       "2949207997008"
      ]
     },
     "execution_count": 6,
     "metadata": {},
     "output_type": "execute_result"
    }
   ],
   "source": [
    "id(numbers2)"
   ]
  },
  {
   "cell_type": "code",
   "execution_count": 7,
   "id": "2a6d933a-b06a-4ae4-953a-fb1390bc160a",
   "metadata": {},
   "outputs": [],
   "source": [
    "numbers[1] *= 10"
   ]
  },
  {
   "cell_type": "code",
   "execution_count": 8,
   "id": "366860c9-1c20-4912-97c7-288b3e2c6981",
   "metadata": {},
   "outputs": [
    {
     "data": {
      "text/plain": [
       "array([ 1, 20,  3,  4,  5])"
      ]
     },
     "execution_count": 8,
     "metadata": {},
     "output_type": "execute_result"
    }
   ],
   "source": [
    "numbers2"
   ]
  },
  {
   "cell_type": "code",
   "execution_count": 9,
   "id": "002496da-bca2-4502-928b-681878ca4dae",
   "metadata": {},
   "outputs": [
    {
     "data": {
      "text/plain": [
       "array([ 1, 20,  3,  4,  5])"
      ]
     },
     "execution_count": 9,
     "metadata": {},
     "output_type": "execute_result"
    }
   ],
   "source": [
    "numbers"
   ]
  },
  {
   "cell_type": "code",
   "execution_count": 10,
   "id": "9525907e-0f15-480d-932f-a2a758567d0d",
   "metadata": {},
   "outputs": [],
   "source": [
    "numbers2[1] /= 10"
   ]
  },
  {
   "cell_type": "code",
   "execution_count": 11,
   "id": "352d5755-e0be-407d-85a4-c2fcb35a8cab",
   "metadata": {},
   "outputs": [
    {
     "data": {
      "text/plain": [
       "array([1, 2, 3, 4, 5])"
      ]
     },
     "execution_count": 11,
     "metadata": {},
     "output_type": "execute_result"
    }
   ],
   "source": [
    "numbers2"
   ]
  },
  {
   "cell_type": "code",
   "execution_count": 12,
   "id": "c7d3e294-08bc-4e39-901c-1100e90a4b93",
   "metadata": {},
   "outputs": [
    {
     "data": {
      "text/plain": [
       "array([1, 2, 3, 4, 5])"
      ]
     },
     "execution_count": 12,
     "metadata": {},
     "output_type": "execute_result"
    }
   ],
   "source": [
    "numbers"
   ]
  },
  {
   "cell_type": "code",
   "execution_count": 13,
   "id": "d33fab65-5518-4f1f-bf24-bca80fdb8dc5",
   "metadata": {},
   "outputs": [],
   "source": [
    "numbers2 = numbers[0:3]"
   ]
  },
  {
   "cell_type": "code",
   "execution_count": 14,
   "id": "10e5cf26-e4da-424b-b3fb-dc0df8e100a6",
   "metadata": {},
   "outputs": [
    {
     "data": {
      "text/plain": [
       "array([1, 2, 3])"
      ]
     },
     "execution_count": 14,
     "metadata": {},
     "output_type": "execute_result"
    }
   ],
   "source": [
    "numbers2 "
   ]
  },
  {
   "cell_type": "code",
   "execution_count": 15,
   "id": "9b073c14-799c-4e9b-935d-4876b7d2098d",
   "metadata": {},
   "outputs": [
    {
     "data": {
      "text/plain": [
       "2949207736752"
      ]
     },
     "execution_count": 15,
     "metadata": {},
     "output_type": "execute_result"
    }
   ],
   "source": [
    "id(numbers)"
   ]
  },
  {
   "cell_type": "code",
   "execution_count": 16,
   "id": "12f45300-03eb-4b0c-b65c-bc47de0c0535",
   "metadata": {},
   "outputs": [
    {
     "data": {
      "text/plain": [
       "2949208527088"
      ]
     },
     "execution_count": 16,
     "metadata": {},
     "output_type": "execute_result"
    }
   ],
   "source": [
    "id(numbers2)"
   ]
  },
  {
   "cell_type": "code",
   "execution_count": 17,
   "id": "4624a5d4-b65b-41e1-a5c0-7920c3650c13",
   "metadata": {},
   "outputs": [],
   "source": [
    "numbers[1] *= 20"
   ]
  },
  {
   "cell_type": "code",
   "execution_count": 18,
   "id": "d04a7008-1546-419a-a9e7-f0579bd7e01e",
   "metadata": {},
   "outputs": [
    {
     "data": {
      "text/plain": [
       "array([ 1, 40,  3,  4,  5])"
      ]
     },
     "execution_count": 18,
     "metadata": {},
     "output_type": "execute_result"
    }
   ],
   "source": [
    "numbers"
   ]
  },
  {
   "cell_type": "code",
   "execution_count": 19,
   "id": "515528e3-0735-4526-9226-2df282e98a8a",
   "metadata": {},
   "outputs": [
    {
     "data": {
      "text/plain": [
       "array([ 1, 40,  3])"
      ]
     },
     "execution_count": 19,
     "metadata": {},
     "output_type": "execute_result"
    }
   ],
   "source": [
    "numbers2"
   ]
  },
  {
   "cell_type": "markdown",
   "id": "5076da05-864e-4f5b-ad54-1761e15b3229",
   "metadata": {},
   "source": [
    "# 7.12 Deep Copies"
   ]
  },
  {
   "cell_type": "code",
   "execution_count": 20,
   "id": "f3831a9f-bd2b-4928-b39e-5c4d62641d15",
   "metadata": {},
   "outputs": [],
   "source": [
    "import numpy as np"
   ]
  },
  {
   "cell_type": "code",
   "execution_count": 21,
   "id": "58ad5892-8d44-462b-af1b-572de3746847",
   "metadata": {},
   "outputs": [],
   "source": [
    "numbers = np.arange(1, 6)"
   ]
  },
  {
   "cell_type": "code",
   "execution_count": 22,
   "id": "c9a64e78-06f8-4af8-97f2-64f77548d817",
   "metadata": {},
   "outputs": [
    {
     "data": {
      "text/plain": [
       "array([1, 2, 3, 4, 5])"
      ]
     },
     "execution_count": 22,
     "metadata": {},
     "output_type": "execute_result"
    }
   ],
   "source": [
    "numbers "
   ]
  },
  {
   "cell_type": "code",
   "execution_count": 23,
   "id": "c9cca9c5-3677-4876-a626-80e4be6b9899",
   "metadata": {},
   "outputs": [],
   "source": [
    "numbers2 = numbers.copy()"
   ]
  },
  {
   "cell_type": "code",
   "execution_count": 24,
   "id": "c7774449-7419-42d3-92d2-b8635b8f7509",
   "metadata": {},
   "outputs": [
    {
     "data": {
      "text/plain": [
       "array([1, 2, 3, 4, 5])"
      ]
     },
     "execution_count": 24,
     "metadata": {},
     "output_type": "execute_result"
    }
   ],
   "source": [
    "numbers2 "
   ]
  },
  {
   "cell_type": "code",
   "execution_count": 25,
   "id": "3734d126-a9cb-49f5-820c-2f7f365ba0c0",
   "metadata": {},
   "outputs": [],
   "source": [
    "numbers[1] *= 10"
   ]
  },
  {
   "cell_type": "code",
   "execution_count": 26,
   "id": "cd18fbcf-3003-49ca-b4c2-7e30912fe6e4",
   "metadata": {},
   "outputs": [
    {
     "data": {
      "text/plain": [
       "array([ 1, 20,  3,  4,  5])"
      ]
     },
     "execution_count": 26,
     "metadata": {},
     "output_type": "execute_result"
    }
   ],
   "source": [
    "numbers"
   ]
  },
  {
   "cell_type": "code",
   "execution_count": 27,
   "id": "4c6777d5-d7e2-4e82-9376-8d756dc45215",
   "metadata": {},
   "outputs": [
    {
     "data": {
      "text/plain": [
       "array([1, 2, 3, 4, 5])"
      ]
     },
     "execution_count": 27,
     "metadata": {},
     "output_type": "execute_result"
    }
   ],
   "source": [
    "numbers2"
   ]
  },
  {
   "cell_type": "markdown",
   "id": "d15d73ec-961c-4454-9895-e8129bf1215a",
   "metadata": {},
   "source": [
    "# 7.13 Reshaping and Transposing"
   ]
  },
  {
   "cell_type": "markdown",
   "id": "a1d54cb1-af78-42bb-94ab-eadc505c62b9",
   "metadata": {},
   "source": [
    "<b> reshape vs resize </b>"
   ]
  },
  {
   "cell_type": "code",
   "execution_count": 28,
   "id": "5467e086-7702-4c7e-a47d-50b082054926",
   "metadata": {},
   "outputs": [],
   "source": [
    "import numpy as np"
   ]
  },
  {
   "cell_type": "code",
   "execution_count": 29,
   "id": "dfa4e612-0c31-4fe9-9a86-68f04dddd82f",
   "metadata": {},
   "outputs": [],
   "source": [
    "grades = np.array([[87, 96, 70], [100, 87, 90]])"
   ]
  },
  {
   "cell_type": "code",
   "execution_count": 30,
   "id": "52691e9a-9a63-4a7f-b709-f7691b8360eb",
   "metadata": {},
   "outputs": [
    {
     "data": {
      "text/plain": [
       "array([[ 87,  96,  70],\n",
       "       [100,  87,  90]])"
      ]
     },
     "execution_count": 30,
     "metadata": {},
     "output_type": "execute_result"
    }
   ],
   "source": [
    "grades "
   ]
  },
  {
   "cell_type": "code",
   "execution_count": 31,
   "id": "eb7bce1b-aeeb-4959-aa1c-21a04f8718c9",
   "metadata": {},
   "outputs": [
    {
     "data": {
      "text/plain": [
       "array([[ 87,  96,  70, 100,  87,  90]])"
      ]
     },
     "execution_count": 31,
     "metadata": {},
     "output_type": "execute_result"
    }
   ],
   "source": [
    "grades.reshape(1,6)"
   ]
  },
  {
   "cell_type": "code",
   "execution_count": 32,
   "id": "ca513bef-4844-4dcd-9e10-ee7480f1d34a",
   "metadata": {},
   "outputs": [
    {
     "data": {
      "text/plain": [
       "array([[ 87,  96,  70],\n",
       "       [100,  87,  90]])"
      ]
     },
     "execution_count": 32,
     "metadata": {},
     "output_type": "execute_result"
    }
   ],
   "source": [
    "grades"
   ]
  },
  {
   "cell_type": "code",
   "execution_count": 33,
   "id": "e4ed9d2d-bcdc-4070-933f-3806b2ecf5c4",
   "metadata": {},
   "outputs": [],
   "source": [
    "grades.resize(1, 6)"
   ]
  },
  {
   "cell_type": "code",
   "execution_count": 34,
   "id": "a67f1da6-3f8e-4c0e-8f02-5c4cac7b93fc",
   "metadata": {},
   "outputs": [
    {
     "data": {
      "text/plain": [
       "array([[ 87,  96,  70, 100,  87,  90]])"
      ]
     },
     "execution_count": 34,
     "metadata": {},
     "output_type": "execute_result"
    }
   ],
   "source": [
    "grades"
   ]
  },
  {
   "cell_type": "markdown",
   "id": "a16187a7-342b-4165-b976-699851cd64ad",
   "metadata": {},
   "source": [
    "<b> flatten vs. ravel</b>"
   ]
  },
  {
   "cell_type": "code",
   "execution_count": 35,
   "id": "cbd1f0c8-609c-47e3-b745-a52777b61bd6",
   "metadata": {},
   "outputs": [],
   "source": [
    "grades = np.array([[87, 96, 70], [100, 87, 90]])"
   ]
  },
  {
   "cell_type": "code",
   "execution_count": 36,
   "id": "b0e64cfc-3c12-4626-8a7d-3f36e076bab1",
   "metadata": {},
   "outputs": [
    {
     "data": {
      "text/plain": [
       "array([[ 87,  96,  70],\n",
       "       [100,  87,  90]])"
      ]
     },
     "execution_count": 36,
     "metadata": {},
     "output_type": "execute_result"
    }
   ],
   "source": [
    "grades "
   ]
  },
  {
   "cell_type": "code",
   "execution_count": 37,
   "id": "6dd8d5a9-1eb8-4aeb-a887-8233407d8c3e",
   "metadata": {},
   "outputs": [],
   "source": [
    "flattened = grades.flatten()"
   ]
  },
  {
   "cell_type": "code",
   "execution_count": 38,
   "id": "551485a6-5a79-4a51-9830-f8580e180748",
   "metadata": {},
   "outputs": [
    {
     "data": {
      "text/plain": [
       "array([ 87,  96,  70, 100,  87,  90])"
      ]
     },
     "execution_count": 38,
     "metadata": {},
     "output_type": "execute_result"
    }
   ],
   "source": [
    "flattened "
   ]
  },
  {
   "cell_type": "code",
   "execution_count": 39,
   "id": "d8480a35-ded8-4ad9-ba01-aa23b6e8beaf",
   "metadata": {},
   "outputs": [
    {
     "data": {
      "text/plain": [
       "array([[ 87,  96,  70],\n",
       "       [100,  87,  90]])"
      ]
     },
     "execution_count": 39,
     "metadata": {},
     "output_type": "execute_result"
    }
   ],
   "source": [
    "grades"
   ]
  },
  {
   "cell_type": "code",
   "execution_count": 40,
   "id": "4ffb65c7-112e-47af-95a6-65eac611beec",
   "metadata": {},
   "outputs": [],
   "source": [
    "flattened[0] = 100"
   ]
  },
  {
   "cell_type": "code",
   "execution_count": 41,
   "id": "28a92717-c3eb-4066-81e6-ec18d63ab86a",
   "metadata": {},
   "outputs": [
    {
     "data": {
      "text/plain": [
       "array([100,  96,  70, 100,  87,  90])"
      ]
     },
     "execution_count": 41,
     "metadata": {},
     "output_type": "execute_result"
    }
   ],
   "source": [
    "flattened"
   ]
  },
  {
   "cell_type": "code",
   "execution_count": 42,
   "id": "abd6fe4e-4029-4ff7-8f6f-1a46dd0d017b",
   "metadata": {},
   "outputs": [
    {
     "data": {
      "text/plain": [
       "array([[ 87,  96,  70],\n",
       "       [100,  87,  90]])"
      ]
     },
     "execution_count": 42,
     "metadata": {},
     "output_type": "execute_result"
    }
   ],
   "source": [
    "grades"
   ]
  },
  {
   "cell_type": "code",
   "execution_count": 43,
   "id": "17f4c2d4-5caf-4e4b-8440-05d8003e3a12",
   "metadata": {},
   "outputs": [],
   "source": [
    "raveled = grades.ravel()"
   ]
  },
  {
   "cell_type": "code",
   "execution_count": 44,
   "id": "4e96e3ce-9984-4398-8e05-608ccd3e4c2c",
   "metadata": {},
   "outputs": [
    {
     "data": {
      "text/plain": [
       "array([ 87,  96,  70, 100,  87,  90])"
      ]
     },
     "execution_count": 44,
     "metadata": {},
     "output_type": "execute_result"
    }
   ],
   "source": [
    "raveled"
   ]
  },
  {
   "cell_type": "code",
   "execution_count": 45,
   "id": "d15307ce-8e0e-469a-ab57-686650d9763d",
   "metadata": {},
   "outputs": [
    {
     "data": {
      "text/plain": [
       "array([[ 87,  96,  70],\n",
       "       [100,  87,  90]])"
      ]
     },
     "execution_count": 45,
     "metadata": {},
     "output_type": "execute_result"
    }
   ],
   "source": [
    "grades"
   ]
  },
  {
   "cell_type": "code",
   "execution_count": 46,
   "id": "f944ad48-12de-42f3-89ba-ee933ea0cc33",
   "metadata": {},
   "outputs": [],
   "source": [
    "raveled[0] = 100"
   ]
  },
  {
   "cell_type": "code",
   "execution_count": 47,
   "id": "83fc683b-7d3c-47d5-892f-e39ca4c8df39",
   "metadata": {},
   "outputs": [
    {
     "data": {
      "text/plain": [
       "array([100,  96,  70, 100,  87,  90])"
      ]
     },
     "execution_count": 47,
     "metadata": {},
     "output_type": "execute_result"
    }
   ],
   "source": [
    "raveled"
   ]
  },
  {
   "cell_type": "code",
   "execution_count": 48,
   "id": "d61772e6-ba8d-4403-842c-5b7dd39f4794",
   "metadata": {},
   "outputs": [
    {
     "data": {
      "text/plain": [
       "array([[100,  96,  70],\n",
       "       [100,  87,  90]])"
      ]
     },
     "execution_count": 48,
     "metadata": {},
     "output_type": "execute_result"
    }
   ],
   "source": [
    "grades"
   ]
  },
  {
   "cell_type": "markdown",
   "id": "20f88bfc-30df-41de-80d6-adc7ddc0f8ee",
   "metadata": {},
   "source": [
    "<b> Transposing Rows and Columns</b>"
   ]
  },
  {
   "cell_type": "code",
   "execution_count": 49,
   "id": "f61f6dd1-6435-4a7d-83c2-7daee6a3d228",
   "metadata": {},
   "outputs": [
    {
     "data": {
      "text/plain": [
       "array([[100, 100],\n",
       "       [ 96,  87],\n",
       "       [ 70,  90]])"
      ]
     },
     "execution_count": 49,
     "metadata": {},
     "output_type": "execute_result"
    }
   ],
   "source": [
    "grades.T"
   ]
  },
  {
   "cell_type": "code",
   "execution_count": 50,
   "id": "179e8c58-ac3c-45e9-8e47-1a5265c50b96",
   "metadata": {},
   "outputs": [
    {
     "data": {
      "text/plain": [
       "array([[100,  96,  70],\n",
       "       [100,  87,  90]])"
      ]
     },
     "execution_count": 50,
     "metadata": {},
     "output_type": "execute_result"
    }
   ],
   "source": [
    "grades"
   ]
  },
  {
   "cell_type": "markdown",
   "id": "2a5e7f15-a9e5-47e9-b495-2f8afd250657",
   "metadata": {},
   "source": [
    "<b> Horizontal and Vertical Stacking</b>"
   ]
  },
  {
   "cell_type": "code",
   "execution_count": 51,
   "id": "f360543c-a333-4272-8ec8-24d7252096b1",
   "metadata": {},
   "outputs": [],
   "source": [
    "grades2 = np.array([[94, 77, 90], [100, 81, 82]])"
   ]
  },
  {
   "cell_type": "code",
   "execution_count": 52,
   "id": "eba691a1-04e6-450f-a98e-7262bfd279e9",
   "metadata": {},
   "outputs": [
    {
     "data": {
      "text/plain": [
       "array([[ 94,  77,  90],\n",
       "       [100,  81,  82]])"
      ]
     },
     "execution_count": 52,
     "metadata": {},
     "output_type": "execute_result"
    }
   ],
   "source": [
    "grades2"
   ]
  },
  {
   "cell_type": "code",
   "execution_count": 53,
   "id": "4b5e232a-1e5c-4135-ad01-a4fb01ecd981",
   "metadata": {},
   "outputs": [
    {
     "data": {
      "text/plain": [
       "array([[100,  96,  70,  94,  77,  90],\n",
       "       [100,  87,  90, 100,  81,  82]])"
      ]
     },
     "execution_count": 53,
     "metadata": {},
     "output_type": "execute_result"
    }
   ],
   "source": [
    "np.hstack((grades, grades2))"
   ]
  },
  {
   "cell_type": "code",
   "execution_count": 54,
   "id": "c961a5c7-831a-48db-98b1-928108b46bce",
   "metadata": {},
   "outputs": [
    {
     "data": {
      "text/plain": [
       "array([[100,  96,  70],\n",
       "       [100,  87,  90],\n",
       "       [ 94,  77,  90],\n",
       "       [100,  81,  82]])"
      ]
     },
     "execution_count": 54,
     "metadata": {},
     "output_type": "execute_result"
    }
   ],
   "source": [
    "np.vstack((grades, grades2))"
   ]
  },
  {
   "cell_type": "markdown",
   "id": "f965511a-6dff-466a-b5f1-45b1ce702aca",
   "metadata": {},
   "source": [
    "<b> Self Check</b>"
   ]
  },
  {
   "cell_type": "code",
   "execution_count": 55,
   "id": "88d3f2fa-6c8f-40ae-a8ee-7f7715434044",
   "metadata": {},
   "outputs": [],
   "source": [
    "import numpy as np"
   ]
  },
  {
   "cell_type": "code",
   "execution_count": 56,
   "id": "fb12357a-f5a8-4c3d-a697-55cbd351b632",
   "metadata": {},
   "outputs": [],
   "source": [
    "a = np.arange(1, 7).reshape(2, 3)"
   ]
  },
  {
   "cell_type": "code",
   "execution_count": 57,
   "id": "31f91fc3-733d-4526-9aea-92bec9362635",
   "metadata": {},
   "outputs": [],
   "source": [
    "a = np.hstack((a, a))"
   ]
  },
  {
   "cell_type": "code",
   "execution_count": 58,
   "id": "41ca4dac-b81c-4796-a7dd-d0e41db8ddee",
   "metadata": {},
   "outputs": [],
   "source": [
    "a = np.vstack((a, a))"
   ]
  },
  {
   "cell_type": "code",
   "execution_count": 59,
   "id": "bf67c66e-16f9-4be2-a2f6-ae5c624bac46",
   "metadata": {},
   "outputs": [
    {
     "data": {
      "text/plain": [
       "array([[1, 2, 3, 1, 2, 3],\n",
       "       [4, 5, 6, 4, 5, 6],\n",
       "       [1, 2, 3, 1, 2, 3],\n",
       "       [4, 5, 6, 4, 5, 6]])"
      ]
     },
     "execution_count": 59,
     "metadata": {},
     "output_type": "execute_result"
    }
   ],
   "source": [
    "a"
   ]
  },
  {
   "cell_type": "code",
   "execution_count": 60,
   "id": "100b14c7-c78c-46e9-b2f1-f0b6e05c1c5b",
   "metadata": {},
   "outputs": [
    {
     "name": "stdout",
     "output_type": "stream",
     "text": [
      "My name is Naiema Elsaadi\n"
     ]
    }
   ],
   "source": [
    "print('My name is Naiema Elsaadi')"
   ]
  }
 ],
 "metadata": {
  "kernelspec": {
   "display_name": "Python 3 (ipykernel)",
   "language": "python",
   "name": "python3"
  },
  "language_info": {
   "codemirror_mode": {
    "name": "ipython",
    "version": 3
   },
   "file_extension": ".py",
   "mimetype": "text/x-python",
   "name": "python",
   "nbconvert_exporter": "python",
   "pygments_lexer": "ipython3",
   "version": "3.9.12"
  }
 },
 "nbformat": 4,
 "nbformat_minor": 5
}
